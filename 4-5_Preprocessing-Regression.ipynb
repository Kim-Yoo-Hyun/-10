{
 "cells": [
  {
   "cell_type": "code",
   "execution_count": 5,
   "metadata": {},
   "outputs": [],
   "source": [
    "# Data Analysis\n",
    "import pandas as pd\n",
    "import numpy as np\n",
    "\n",
    "# Visualization\n",
    "import matplotlib.pyplot as plt\n",
    "%matplotlib inline\n",
    "\n",
    "# Machine Learning\n",
    "from sklearn.linear_model import LinearRegression\n",
    "\n",
    "from sklearn.model_selection import KFold, train_test_split\n",
    "from sklearn.model_selection import cross_val_score\n",
    "from sklearn.metrics import mean_squared_error, r2_score\n",
    "from sklearn.decomposition import PCA"
   ]
  },
  {
   "cell_type": "markdown",
   "metadata": {},
   "source": [
    "# **4. 데이터 전처리**"
   ]
  },
  {
   "cell_type": "code",
   "execution_count": 6,
   "metadata": {},
   "outputs": [
    {
     "name": "stdout",
     "output_type": "stream",
     "text": [
      "<class 'pandas.core.frame.DataFrame'>\n",
      "RangeIndex: 27820 entries, 0 to 27819\n",
      "Data columns (total 12 columns):\n",
      " #   Column              Non-Null Count  Dtype  \n",
      "---  ------              --------------  -----  \n",
      " 0   country             27820 non-null  object \n",
      " 1   year                27820 non-null  int64  \n",
      " 2   sex                 27820 non-null  object \n",
      " 3   age                 27820 non-null  object \n",
      " 4   suicides_no         27820 non-null  int64  \n",
      " 5   population          27820 non-null  int64  \n",
      " 6   suicides/100k pop   27820 non-null  float64\n",
      " 7   country-year        27820 non-null  object \n",
      " 8   HDI for year        8364 non-null   float64\n",
      " 9   gdp_for_year ($)    27820 non-null  object \n",
      " 10  gdp_per_capita ($)  27820 non-null  int64  \n",
      " 11  generation          27820 non-null  object \n",
      "dtypes: float64(2), int64(4), object(6)\n",
      "memory usage: 2.5+ MB\n",
      "None\n"
     ]
    }
   ],
   "source": [
    "# Load Data\n",
    "data = pd.read_csv(\"master.csv\")\n",
    "\n",
    "print(data.info())"
   ]
  },
  {
   "cell_type": "markdown",
   "metadata": {},
   "source": [
    "### **4-a. Data Restructuring (데이터 재구조화)**"
   ]
  },
  {
   "cell_type": "markdown",
   "metadata": {},
   "source": [
    "#### **Table Decomposition**"
   ]
  },
  {
   "cell_type": "code",
   "execution_count": 7,
   "metadata": {},
   "outputs": [
    {
     "name": "stdout",
     "output_type": "stream",
     "text": [
      "<class 'pandas.core.frame.DataFrame'>\n",
      "RangeIndex: 27820 entries, 0 to 27819\n",
      "Data columns (total 10 columns):\n",
      " #   Column              Non-Null Count  Dtype  \n",
      "---  ------              --------------  -----  \n",
      " 0   country             27820 non-null  object \n",
      " 1   year                27820 non-null  int64  \n",
      " 2   sex                 27820 non-null  object \n",
      " 3   age                 27820 non-null  object \n",
      " 4   suicides/100k pop   27820 non-null  float64\n",
      " 5   country-year        27820 non-null  object \n",
      " 6   HDI for year        8364 non-null   float64\n",
      " 7   gdp_for_year ($)    27820 non-null  object \n",
      " 8   gdp_per_capita ($)  27820 non-null  int64  \n",
      " 9   generation          27820 non-null  object \n",
      "dtypes: float64(2), int64(2), object(6)\n",
      "memory usage: 2.1+ MB\n",
      "None\n"
     ]
    }
   ],
   "source": [
    "# Delete duplicate attribute: \"suicides_no\", \"population\"\n",
    "# \"suicides/100k pop\" * 10^5 = \"suicides_no\" / \"population\" \n",
    "data.drop(\"suicides_no\", axis = 1, inplace = True)\n",
    "data.drop(\"population\", axis = 1, inplace = True)\n",
    "\n",
    "print(data.info())"
   ]
  },
  {
   "cell_type": "code",
   "execution_count": 8,
   "metadata": {},
   "outputs": [
    {
     "name": "stdout",
     "output_type": "stream",
     "text": [
      "<class 'pandas.core.frame.DataFrame'>\n",
      "RangeIndex: 27820 entries, 0 to 27819\n",
      "Data columns (total 9 columns):\n",
      " #   Column              Non-Null Count  Dtype  \n",
      "---  ------              --------------  -----  \n",
      " 0   country             27820 non-null  object \n",
      " 1   year                27820 non-null  int64  \n",
      " 2   sex                 27820 non-null  object \n",
      " 3   age                 27820 non-null  object \n",
      " 4   suicides/100k pop   27820 non-null  float64\n",
      " 5   HDI for year        8364 non-null   float64\n",
      " 6   gdp_for_year ($)    27820 non-null  object \n",
      " 7   gdp_per_capita ($)  27820 non-null  int64  \n",
      " 8   generation          27820 non-null  object \n",
      "dtypes: float64(2), int64(2), object(5)\n",
      "memory usage: 1.9+ MB\n",
      "None\n"
     ]
    }
   ],
   "source": [
    "# Delete duplicate attribute: \"country-year\"\n",
    "# \"country\" and \"year\" attributes also exist separately\n",
    "data.drop(\"country-year\", axis = 1, inplace = True)\n",
    "\n",
    "print(data.info())"
   ]
  },
  {
   "cell_type": "code",
   "execution_count": 9,
   "metadata": {},
   "outputs": [
    {
     "name": "stdout",
     "output_type": "stream",
     "text": [
      "<class 'pandas.core.frame.DataFrame'>\n",
      "RangeIndex: 27820 entries, 0 to 27819\n",
      "Data columns (total 8 columns):\n",
      " #   Column              Non-Null Count  Dtype  \n",
      "---  ------              --------------  -----  \n",
      " 0   country             27820 non-null  object \n",
      " 1   year                27820 non-null  int64  \n",
      " 2   sex                 27820 non-null  object \n",
      " 3   age                 27820 non-null  object \n",
      " 4   suicides/100k pop   27820 non-null  float64\n",
      " 5   HDI for year        8364 non-null   float64\n",
      " 6   gdp_per_capita ($)  27820 non-null  int64  \n",
      " 7   generation          27820 non-null  object \n",
      "dtypes: float64(2), int64(2), object(4)\n",
      "memory usage: 1.7+ MB\n",
      "None\n"
     ]
    }
   ],
   "source": [
    "# Delete duplicate attribute: \"gdp_for_year ($)\"\n",
    "# \"gdp_for_year ($)\" is proportional to \"gdp_per_capita ($)\"\n",
    "data.drop(\"gdp_for_year ($)\", axis = 1, inplace = True)\n",
    "\n",
    "print(data.info())"
   ]
  },
  {
   "cell_type": "markdown",
   "metadata": {},
   "source": [
    "### **관련 설명**\n",
    "#### **\"suicides_no\", \"population\" 제거**\n",
    "`suicides/100k pop` 컬럼은 `suicides_no`를 *population*으로 나눈 후에 *100,000*을 곱한 값이다. 따라서 `suicides_no`와 *population*은 `suicides/100k pop`를 통해 이미 표현되고 있어서, 이 두 컬럼은 중복 정보를 제공하며, 데이터셋의 차원을 줄이기 위해 제거한다.\n",
    "<br>\n",
    "\n",
    "#### **\"country-year\" 제거**\n",
    "`country-year`는 **country**와 **year**의 결합된 정보를 제공하는 컬럼이다. 개별 컬럼을 사용하는 것이 데이터 처리에 더 유연하며, 필요한 경우 언제든지 이 두 속성을 결합하여 동일한 정보를 재생성할 수 있다.\n",
    "<br>\n",
    "\n",
    "#### **\"gdp_for_year ($)\" 제거**\n",
    "`gdp_for_year ($)`는 **국가의 연간 총 GDP**를 나타내고, `gdp_per_capita ($)`는 **인구 대비 GDP**를 나타낸다. 이 두 값은 서로 비례 관계에 있으므로 **국가의 총 GDP**는 *인구 수*와 *1인당 GDP*의 곱으로 계산될 수 있다. 이런 경우 `gdp_for_year ($)`는 `gdp_per_capita ($)`와 인구 데이터를 통해 추론할 수 있으므로, 중복되는 정보를 제공하고 데이터셋의 복잡성을 불필요하게 증가시킬 수 있어 제거한다."
   ]
  },
  {
   "cell_type": "markdown",
   "metadata": {},
   "source": [
    "### **4-b. Data Value Changes(데이터 값 변환)**"
   ]
  },
  {
   "cell_type": "markdown",
   "metadata": {},
   "source": [
    "#### **Cleaning dirty data**"
   ]
  },
  {
   "cell_type": "code",
   "execution_count": 10,
   "metadata": {},
   "outputs": [
    {
     "name": "stdout",
     "output_type": "stream",
     "text": [
      "Original Dataset:\n",
      "country                   0\n",
      "year                      0\n",
      "sex                       0\n",
      "age                       0\n",
      "suicides/100k pop         0\n",
      "HDI for year          19456\n",
      "gdp_per_capita ($)        0\n",
      "generation                0\n",
      "dtype: int64\n"
     ]
    }
   ],
   "source": [
    "# Check missing values in original dataset\n",
    "print(\"Original Dataset:\")\n",
    "print(data.isnull().sum())"
   ]
  },
  {
   "cell_type": "code",
   "execution_count": 11,
   "metadata": {},
   "outputs": [
    {
     "name": "stdout",
     "output_type": "stream",
     "text": [
      "Percentage of missing value of \"HDI for year\": 69.94%\n",
      "\n",
      "<class 'pandas.core.frame.DataFrame'>\n",
      "RangeIndex: 27820 entries, 0 to 27819\n",
      "Data columns (total 7 columns):\n",
      " #   Column              Non-Null Count  Dtype  \n",
      "---  ------              --------------  -----  \n",
      " 0   country             27820 non-null  object \n",
      " 1   year                27820 non-null  int64  \n",
      " 2   sex                 27820 non-null  object \n",
      " 3   age                 27820 non-null  object \n",
      " 4   suicides/100k pop   27820 non-null  float64\n",
      " 5   gdp_per_capita ($)  27820 non-null  int64  \n",
      " 6   generation          27820 non-null  object \n",
      "dtypes: float64(1), int64(2), object(4)\n",
      "memory usage: 1.5+ MB\n",
      "None\n"
     ]
    }
   ],
   "source": [
    "# Determine what percentage is missing : 69.94%\n",
    "missing_value = sum(pd.isnull(data[\"HDI for year\"]))/len(data[\"HDI for year\"])\n",
    "print(f\"Percentage of missing value of \\\"HDI for year\\\": {missing_value * 100:.2f}%\\n\")\n",
    "\n",
    "# Delete missing attribute: \"HDI for year\"\n",
    "data.drop(\"HDI for year\", axis = 1, inplace = True)\n",
    "\n",
    "print(data.info())"
   ]
  },
  {
   "cell_type": "markdown",
   "metadata": {},
   "source": [
    "### **관련 설명**\n",
    "데이터셋에서 각 컬럼별로 누락된 값의 수를 계산하여, `HDI for year`컬럼의 누락된 값의 수가 같은 컬럼 내의 전체 데이터의 70%에 달하는 걸 도출했다. -> `HDI for year` 컬럼 삭제\n"
   ]
  },
  {
   "cell_type": "markdown",
   "metadata": {},
   "source": [
    "#### **Text preprocessing**"
   ]
  },
  {
   "cell_type": "code",
   "execution_count": 12,
   "metadata": {},
   "outputs": [
    {
     "name": "stdout",
     "output_type": "stream",
     "text": [
      "0        15-24\n",
      "1        35-54\n",
      "2        15-24\n",
      "3          75+\n",
      "4        25-34\n",
      "         ...  \n",
      "27815    35-54\n",
      "27816      75+\n",
      "27817     5-14\n",
      "27818     5-14\n",
      "27819    55-74\n",
      "Name: age, Length: 27820, dtype: object\n"
     ]
    }
   ],
   "source": [
    "# Remove 'years' text\n",
    "data[\"age\"] = data[\"age\"].str.strip(\" years\")\n",
    "\n",
    "print(data['age'])"
   ]
  },
  {
   "cell_type": "markdown",
   "metadata": {},
   "source": [
    "### **관련 설명**\n",
    "`age` 컬럼에 **years** 텍스트를 제거한다"
   ]
  },
  {
   "cell_type": "markdown",
   "metadata": {},
   "source": [
    "#### **Data discretization**"
   ]
  },
  {
   "cell_type": "code",
   "execution_count": 13,
   "metadata": {},
   "outputs": [
    {
     "name": "stdout",
     "output_type": "stream",
     "text": [
      "0        20\n",
      "1        45\n",
      "2        20\n",
      "3        80\n",
      "4        30\n",
      "         ..\n",
      "27815    45\n",
      "27816    80\n",
      "27817    10\n",
      "27818    10\n",
      "27819    65\n",
      "Name: age, Length: 27820, dtype: int64\n"
     ]
    }
   ],
   "source": [
    "# Change the string of the age to an integer\n",
    "\n",
    "# Define the function to convert age strings to integers\n",
    "def convert_age(age):\n",
    "    if '75+' in age:\n",
    "        return 80\n",
    "    elif '55-74' in age:\n",
    "        return 65\n",
    "    elif '35-54' in age:\n",
    "        return 45\n",
    "    elif '25-34' in age:\n",
    "        return 30\n",
    "    elif '15-24' in age:\n",
    "        return 20\n",
    "    elif '5-14' in age:\n",
    "        return 10\n",
    "    else:\n",
    "        return None\n",
    "\n",
    "# Apply the function to the 'age' column in both train and test datasets\n",
    "data['age'] = data['age'].apply(convert_age)\n",
    "\n",
    "# Verify the changes by grouping by age and calculating the mean suicide rate\n",
    "age_grouped = data[['age', 'suicides/100k pop']].groupby('age', as_index=False).mean().sort_values(by='suicides/100k pop', ascending=False)\n",
    "\n",
    "# Display the results\n",
    "print(data['age'])"
   ]
  },
  {
   "cell_type": "markdown",
   "metadata": {},
   "source": [
    "### **관련 설명**\n",
    "데이터 타입을 **object타입**에서 **int타입**으로 바꾸고, 각 연령대의 *중간값*으로 인코딩했다. "
   ]
  },
  {
   "cell_type": "markdown",
   "metadata": {},
   "source": [
    "#### **Encoding for data mining algorighoms**"
   ]
  },
  {
   "cell_type": "code",
   "execution_count": 14,
   "metadata": {},
   "outputs": [
    {
     "name": "stdout",
     "output_type": "stream",
     "text": [
      "0        1\n",
      "1        1\n",
      "2        0\n",
      "3        1\n",
      "4        1\n",
      "        ..\n",
      "27815    0\n",
      "27816    0\n",
      "27817    1\n",
      "27818    0\n",
      "27819    0\n",
      "Name: sex, Length: 27820, dtype: int64\n"
     ]
    }
   ],
   "source": [
    "# Pre-processing sex property using label encoding\n",
    "\n",
    "# Define the mapping function using map\n",
    "sex_mapping = {'female': 0, 'male': 1}\n",
    "\n",
    "data['sex'] = data['sex'].map(sex_mapping)\n",
    "\n",
    "# Verify the changes by grouping by sex and calculating the mean suicide rate\n",
    "sex_grouped = data[['sex', 'suicides/100k pop']].groupby('sex', as_index=False).mean().sort_values(by='suicides/100k pop', ascending=False)\n",
    "\n",
    "# Display the results\n",
    "print(data['sex'])"
   ]
  },
  {
   "cell_type": "markdown",
   "metadata": {},
   "source": [
    "### **관련 설명**\n",
    "**라벨 인코딩**을 사용하여 **남자**는 **1**, **여자**는 **0**으로 변환하였다"
   ]
  },
  {
   "cell_type": "code",
   "execution_count": 15,
   "metadata": {},
   "outputs": [
    {
     "name": "stdout",
     "output_type": "stream",
     "text": [
      "<class 'pandas.core.frame.DataFrame'>\n",
      "RangeIndex: 27820 entries, 0 to 27819\n",
      "Data columns (total 12 columns):\n",
      " #   Column                      Non-Null Count  Dtype  \n",
      "---  ------                      --------------  -----  \n",
      " 0   country                     27820 non-null  object \n",
      " 1   year                        27820 non-null  int64  \n",
      " 2   sex                         27820 non-null  int64  \n",
      " 3   age                         27820 non-null  int64  \n",
      " 4   suicides/100k pop           27820 non-null  float64\n",
      " 5   gdp_per_capita ($)          27820 non-null  int64  \n",
      " 6   generation_Boomers          27820 non-null  bool   \n",
      " 7   generation_G.I. Generation  27820 non-null  bool   \n",
      " 8   generation_Generation X     27820 non-null  bool   \n",
      " 9   generation_Generation Z     27820 non-null  bool   \n",
      " 10  generation_Millenials       27820 non-null  bool   \n",
      " 11  generation_Silent           27820 non-null  bool   \n",
      "dtypes: bool(6), float64(1), int64(4), object(1)\n",
      "memory usage: 1.4+ MB\n",
      "None\n"
     ]
    }
   ],
   "source": [
    "# Pre-processing generation property using one-hot encoding\n",
    "data_encoded = pd.get_dummies(data, columns=['generation'])\n",
    "\n",
    "# Extract the column names generated by one-hot encoding\n",
    "one_hot_columns = [col for col in data_encoded.columns if 'generation_' in col]\n",
    "\n",
    "# Add one-hot encoded columns to the original data frame\n",
    "data = data.join(data_encoded[one_hot_columns])\n",
    "\n",
    "# Drop the original 'generation' column\n",
    "data.drop(columns=['generation'], inplace=True)\n",
    "\n",
    "print(data.info())"
   ]
  },
  {
   "cell_type": "markdown",
   "metadata": {},
   "source": [
    "### **4-c. Feature Engineering(특성 엔지니어링)**"
   ]
  },
  {
   "cell_type": "markdown",
   "metadata": {},
   "source": [
    "#### **Feature Creation**"
   ]
  },
  {
   "cell_type": "code",
   "execution_count": 16,
   "metadata": {},
   "outputs": [
    {
     "name": "stdout",
     "output_type": "stream",
     "text": [
      "<class 'pandas.core.frame.DataFrame'>\n",
      "RangeIndex: 27820 entries, 0 to 27819\n",
      "Data columns (total 13 columns):\n",
      " #   Column                      Non-Null Count  Dtype  \n",
      "---  ------                      --------------  -----  \n",
      " 0   country                     27820 non-null  object \n",
      " 1   year                        27820 non-null  int64  \n",
      " 2   sex                         27820 non-null  int64  \n",
      " 3   age                         27820 non-null  int64  \n",
      " 4   suicides/100k pop           27820 non-null  float64\n",
      " 5   gdp_per_capita ($)          27820 non-null  int64  \n",
      " 6   generation_Boomers          27820 non-null  bool   \n",
      " 7   generation_G.I. Generation  27820 non-null  bool   \n",
      " 8   generation_Generation X     27820 non-null  bool   \n",
      " 9   generation_Generation Z     27820 non-null  bool   \n",
      " 10  generation_Millenials       27820 non-null  bool   \n",
      " 11  generation_Silent           27820 non-null  bool   \n",
      " 12  suicides_scaled             27820 non-null  float64\n",
      "dtypes: bool(6), float64(2), int64(4), object(1)\n",
      "memory usage: 1.6+ MB\n",
      "None\n"
     ]
    }
   ],
   "source": [
    "# Calculate the maximum value of 'suicides/100k pop'\n",
    "max_value = data['suicides/100k pop'].max()\n",
    "\n",
    "# Create a new attribute 'suicides_scaled'\n",
    "data['suicides_scaled'] = data['suicides/100k pop'] / max_value * 100\n",
    "\n",
    "print(data.info())\n"
   ]
  },
  {
   "cell_type": "markdown",
   "metadata": {},
   "source": [
    "### **관련 설명**\n",
    "데이터 분석을 용이하게 하고, 결과를 더 직관적으로 비교할 수 있게 하기 위해서 `suicides/100k pop`의 값들을 백분율로 바꾸어 새로운 속성 `suicides_scaled`에 인코딩하였다"
   ]
  },
  {
   "cell_type": "code",
   "execution_count": 17,
   "metadata": {},
   "outputs": [
    {
     "name": "stdout",
     "output_type": "stream",
     "text": [
      "Data with Target Encoding on 'country':\n",
      "0        3.494650\n",
      "1        3.526042\n",
      "2        3.460366\n",
      "3        3.502403\n",
      "4        3.494650\n",
      "           ...   \n",
      "27815    8.094891\n",
      "27816    8.334615\n",
      "27817    8.094891\n",
      "27818    7.885556\n",
      "27819    8.150212\n",
      "Name: country_encoded, Length: 27820, dtype: float64\n"
     ]
    },
    {
     "name": "stderr",
     "output_type": "stream",
     "text": [
      "C:\\TempFolder\\ipykernel_25804\\1141463371.py:21: FutureWarning: A value is trying to be set on a copy of a DataFrame or Series through chained assignment using an inplace method.\n",
      "The behavior will change in pandas 3.0. This inplace method will never work because the intermediate object on which we are setting values always behaves as a copy.\n",
      "\n",
      "For example, when doing 'df[col].method(value, inplace=True)', try using 'df.method({col: value}, inplace=True)' or df[col] = df[col].method(value) instead, to perform the operation inplace on the original object.\n",
      "\n",
      "\n",
      "  data['country_encoded'].fillna(global_mean, inplace=True)\n"
     ]
    }
   ],
   "source": [
    "# Initialize KFold\n",
    "kf = KFold(n_splits=10, shuffle=True, random_state=33)\n",
    "\n",
    "# Prepare the new encoded column\n",
    "data['country_encoded'] = 0.0\n",
    "\n",
    "# Perform target encoding using KFold\n",
    "for train_index, val_index in kf.split(data):\n",
    "    train_fold, val_fold = data.iloc[train_index], data.iloc[val_index]\n",
    "    mean_encoded = train_fold.groupby('country')['suicides/100k pop'].mean()\n",
    "    data.loc[val_index, 'country_encoded'] = val_fold['country'].map(mean_encoded)\n",
    "\n",
    "# Split the data into training and testing datasets\n",
    "# Normally done for dividing data, but here it is used as an example to split part of the data arbitrarily\n",
    "train_data = data.sample(frac=0.8, random_state=33)\n",
    "test_data = data.drop(train_data.index)\n",
    "\n",
    "# Use mean encoding for the test dataset\n",
    "# Use the mean calculated from the entire dataset\n",
    "global_mean = data['suicides/100k pop'].mean()\n",
    "data['country_encoded'].fillna(global_mean, inplace=True)\n",
    "\n",
    "# Drop the original 'country' column\n",
    "data.drop(columns=['country'], inplace=True)\n",
    "\n",
    "# Print the results\n",
    "print(\"Data with Target Encoding on 'country':\")\n",
    "print(data['country_encoded'])\n"
   ]
  },
  {
   "cell_type": "markdown",
   "metadata": {},
   "source": [
    "새로운 속성 `Over_threshold_suicides` 생성: 이 속성은 `suicides/100k pop`이 **threshold**를 초과하는지 여부를 확인하여, 0과 1로 표기한다\n",
    "\n",
    "`KFold 교차 검증`을 통한 **타깃 인코딩**: 각 국가별로 `suicides/100k pop`의 평균을 계산하고, 이를 각 검증 세트에 메핑하여 **국가별 자살률의 평균**으로 새로운 컬럼 `country_encoded`를 만든다"
   ]
  },
  {
   "cell_type": "markdown",
   "metadata": {},
   "source": [
    "### **4-d. Data Reduction(데이터 축약)**"
   ]
  },
  {
   "cell_type": "markdown",
   "metadata": {},
   "source": [
    "#### **Data Filtering**"
   ]
  },
  {
   "cell_type": "code",
   "execution_count": 18,
   "metadata": {},
   "outputs": [
    {
     "name": "stdout",
     "output_type": "stream",
     "text": [
      "X_train shape: (19474, 11)\n",
      "Y_train shape: (19474,)\n",
      "X_test shape: (8346, 11)\n",
      "Y_test shape: (8346,)\n"
     ]
    }
   ],
   "source": [
    "# Split the entire dataset into training and testing data with a 70:30 ratio\n",
    "train_data, test_data = train_test_split(data, test_size=0.3, random_state=33)\n",
    "\n",
    "# Use the properties we created ('Over_threshold_suicides') as predictions\n",
    "# Remove 'suicides/100k pop', a factor that affects prediction\n",
    "\n",
    "# Ensure that all necessary columns are present and no unnecessary columns are dropped\n",
    "columns_to_drop = [\"suicides/100k pop\", \"suicides_scaled\"]\n",
    "\n",
    "# Drop columns in a single operation for both train and test sets\n",
    "X_train = train_data.drop(columns=columns_to_drop)\n",
    "Y_train = train_data[\"suicides_scaled\"]\n",
    "\n",
    "X_test = test_data.drop(columns=columns_to_drop).copy()\n",
    "Y_test = test_data[\"suicides_scaled\"]\n",
    "\n",
    "# Print the shapes of X_train, Y_train, and X_test to verify\n",
    "print(f\"X_train shape: {X_train.shape}\")\n",
    "print(f\"Y_train shape: {Y_train.shape}\")\n",
    "print(f\"X_test shape: {X_test.shape}\")\n",
    "print(f\"Y_test shape: {Y_test.shape}\")"
   ]
  },
  {
   "cell_type": "markdown",
   "metadata": {},
   "source": [
    "#### **관련 해설**\n",
    "전체 데이터 셋을 훈련 데이터와 테스트 데이터로 **7:3 비율**로 분할한다. `Over_threshold_suicides` 속성을 예측 변수로 사용하며, 예측에 영향을 줄 수 있는 `suicides/100k pop` 컬럼은 제거한다"
   ]
  },
  {
   "cell_type": "code",
   "execution_count": 19,
   "metadata": {},
   "outputs": [
    {
     "name": "stdout",
     "output_type": "stream",
     "text": [
      "data shape:  (27820, 13) \n",
      "\n",
      "<class 'pandas.core.frame.DataFrame'>\n",
      "RangeIndex: 27820 entries, 0 to 27819\n",
      "Data columns (total 13 columns):\n",
      " #   Column                      Non-Null Count  Dtype  \n",
      "---  ------                      --------------  -----  \n",
      " 0   year                        27820 non-null  int64  \n",
      " 1   sex                         27820 non-null  int64  \n",
      " 2   age                         27820 non-null  int64  \n",
      " 3   suicides/100k pop           27820 non-null  float64\n",
      " 4   gdp_per_capita ($)          27820 non-null  int64  \n",
      " 5   generation_Boomers          27820 non-null  bool   \n",
      " 6   generation_G.I. Generation  27820 non-null  bool   \n",
      " 7   generation_Generation X     27820 non-null  bool   \n",
      " 8   generation_Generation Z     27820 non-null  bool   \n",
      " 9   generation_Millenials       27820 non-null  bool   \n",
      " 10  generation_Silent           27820 non-null  bool   \n",
      " 11  suicides_scaled             27820 non-null  float64\n",
      " 12  country_encoded             27820 non-null  float64\n",
      "dtypes: bool(6), float64(3), int64(4)\n",
      "memory usage: 1.6 MB\n",
      "None\n"
     ]
    }
   ],
   "source": [
    "print(\"data shape: \", data.shape, \"\\n\")\n",
    "print(data.info())"
   ]
  },
  {
   "cell_type": "markdown",
   "metadata": {},
   "source": [
    "### **0. [Regression] Linear Regression**\n",
    "대표적인 회귀 모델로, 통계학에서 가장 기본적이고 널리 사용되는 예측 모델 중 하나이다"
   ]
  },
  {
   "cell_type": "code",
   "execution_count": 20,
   "metadata": {},
   "outputs": [
    {
     "name": "stderr",
     "output_type": "stream",
     "text": [
      "c:\\Python\\Python312\\Lib\\site-packages\\sklearn\\base.py:493: UserWarning: X does not have valid feature names, but LinearRegression was fitted with feature names\n",
      "  warnings.warn(\n"
     ]
    },
    {
     "name": "stdout",
     "output_type": "stream",
     "text": [
      "Training RMSE: 5.880\n",
      "Test RMSE: 6.074\n",
      "Training R²: 0.505\n",
      "Test R²: 0.501\n",
      "Average 10-Fold CV RMSE: 5.936\n",
      "Average 10-Fold CV R²: 0.503\n"
     ]
    },
    {
     "name": "stderr",
     "output_type": "stream",
     "text": [
      "c:\\Python\\Python312\\Lib\\site-packages\\sklearn\\base.py:493: UserWarning: X does not have valid feature names, but LinearRegression was fitted with feature names\n",
      "  warnings.warn(\n"
     ]
    },
    {
     "data": {
      "image/png": "[encoded data removed]",
      "text/plain": [
       "<Figure size 1200x600 with 1 Axes>"
      ]
     },
     "metadata": {},
     "output_type": "display_data"
    }
   ],
   "source": [
    "# 0. Linear Regression\n",
    "# Create and fit the model\n",
    "linear_regression = LinearRegression()\n",
    "linear_regression.fit(X_train, Y_train)  # Fitting the model on the training set\n",
    "\n",
    "# Predict on the combined dataset\n",
    "y_all_pred = linear_regression.predict(np.vstack([X_train, X_test]))\n",
    "\n",
    "# Apply PCA for visualization\n",
    "pca = PCA(n_components=1)\n",
    "X_all_reduced = pca.fit_transform(np.vstack([X_train, X_test]))\n",
    "\n",
    "# Calculate RMSE and R² for training and testing sets\n",
    "train_rmse = np.sqrt(mean_squared_error(Y_train, linear_regression.predict(X_train)))\n",
    "test_rmse = np.sqrt(mean_squared_error(Y_test, linear_regression.predict(X_test)))\n",
    "train_r2 = r2_score(Y_train, linear_regression.predict(X_train))\n",
    "test_r2 = r2_score(Y_test, linear_regression.predict(X_test))\n",
    "\n",
    "# Print training and testing metrics\n",
    "print(f\"Training RMSE: {train_rmse:.3f}\")\n",
    "print(f\"Test RMSE: {test_rmse:.3f}\")\n",
    "print(f\"Training R²: {train_r2:.3f}\")\n",
    "print(f\"Test R²: {test_r2:.3f}\")\n",
    "\n",
    "# Perform 10-Fold Cross-Validation\n",
    "kf = KFold(n_splits=10, shuffle=True, random_state=33)\n",
    "cv_rmse_scores = cross_val_score(linear_regression, np.vstack([X_train, X_test]), np.concatenate([Y_train, Y_test]), cv=kf, scoring='neg_root_mean_squared_error')\n",
    "cv_r2_scores = cross_val_score(linear_regression, np.vstack([X_train, X_test]), np.concatenate([Y_train, Y_test]), cv=kf, scoring='r2')\n",
    "\n",
    "# Print cross-validation results\n",
    "print(f\"Average 10-Fold CV RMSE: {abs(np.mean(cv_rmse_scores)):.3f}\")\n",
    "print(f\"Average 10-Fold CV R²: {np.mean(cv_r2_scores):.3f}\")\n",
    "\n",
    "# Plot the results\n",
    "plt.figure(figsize=(12, 6))\n",
    "plt.scatter(X_all_reduced, np.concatenate([Y_train, Y_test]), color='red', label='Data points', marker='.')\n",
    "x_line = np.linspace(X_all_reduced.min(), X_all_reduced.max(), 500)  # Generating x values for the regression line\n",
    "y_line_pred = linear_regression.predict(pca.inverse_transform(x_line.reshape(-1, 1)))  # Predicting y values\n",
    "plt.plot(x_line, y_line_pred, color='blue', label='Linear regression')\n",
    "plt.title('Linear Regression: Actual vs Predicted')\n",
    "plt.xlabel('Principal Component of Features')\n",
    "plt.ylabel('Predicted values')\n",
    "plt.legend()\n",
    "plt.show()"
   ]
  },
  {
   "cell_type": "markdown",
   "metadata": {},
   "source": [
    "### **Linear Regression Model Evaluation**\n",
    "\n",
    "#### 1. Training Indicators\n",
    "\n",
    "- **평균 제곱근 오차(RMSE) 및 결정 계수(R²)**:\n",
    "    - **훈련 RMSE**: *5.880* - 모델이 훈련 데이터에서 발생하는 오류의 크기를 나타낸다\n",
    "    - **테스트 RMSE**: *6.074* - 미처리 테스트 데이터에서 오류가 약간 증가하여 모델이 어느 정도 일반화되고 있지만 개선의 여지가 있음을 시사한다\n",
    "    - **훈련 R²**: *0.505* - 훈련 데이터 셋의 독립 변수에서 종속 변수의 분산 중 약 `50.5%`가 예측 가능함을 제시함\n",
    "    - **테스트 R²**: *0.501* - 훈련 R²와 일관된 값을 보여 훈련에서 테스트로의 안정된 성능을 나타낸다\n",
    "\n",
    "#### 2. 모델 적합성 및 일반화\n",
    "\n",
    "- 차트는 예측된 회귀선에서 상당한 데이터 포인트의 분산을 강조하여, 선형 회귀가 포착할 수 없는 데이터의 잠재적인 과소적합 또는 비선형성을 나타낸다\n",
    "- **평균 10-겹 교차 검증 RMSE**: *5.936* 및 **R²**: *0.503*은 다양한 데이터 하위 집합에서 모델의 `일관성`을 더 확인시켜주지만, 모델이 데이터의 패턴을 거의 포착하지 못한다\n",
    "\n",
    "#### 3. 개선 가능성\n",
    "\n",
    "- 데이터 포인트의 분포와 성능 지표를 고려할 때, 더 복잡한 모델을 탐색하거나 다항 특성을 추가하는 것이 모델이 데이터의 분산을 포착하는 능력을 개선할 수 있다\n",
    "\n",
    "### 결론\n",
    "\n",
    "``전반적으로, 선형 회귀 모델은 특징의 주성분에 기반하여 종속 변수를 예측하는 데 중간 정도의 효과를 보여준다. 그러나 실제 값과 예측 값 사이의 눈에 띄는 불일치와 중간 정도의 R² 값은 데이터의 복잡성을 더 잘 포착하기 위해 `Regression` 기반의 모델보다는 `Classification` 기반의 모델을 사용할 예정이다``\n"
   ]
  },
  {
   "cell_type": "code",
   "execution_count": null,
   "metadata": {},
   "outputs": [],
   "source": []
  }
 ],
 "metadata": {
  "kernelspec": {
   "display_name": "Python 3",
   "language": "python",
   "name": "python3"
  },
  "language_info": {
   "codemirror_mode": {
    "name": "ipython",
    "version": 3
   },
   "file_extension": ".py",
   "mimetype": "text/x-python",
   "name": "python",
   "nbconvert_exporter": "python",
   "pygments_lexer": "ipython3",
   "version": "3.12.2"
  }
 },
 "nbformat": 4,
 "nbformat_minor": 2
}
