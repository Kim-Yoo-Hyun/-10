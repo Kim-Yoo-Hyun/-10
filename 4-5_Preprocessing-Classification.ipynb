{
 "cells": [
  {
   "cell_type": "code",
   "execution_count": 1,
   "metadata": {},
   "outputs": [],
   "source": [
    "# Data Analysis\n",
    "import pandas as pd\n",
    "import numpy as np\n",
    "\n",
    "# Visualization\n",
    "import seaborn as sns\n",
    "import matplotlib.pyplot as plt\n",
    "%matplotlib inline\n",
    "\n",
    "# Machine Learning\n",
    "from sklearn.linear_model import LogisticRegression\n",
    "from sklearn.ensemble import RandomForestClassifier\n",
    "from sklearn.neighbors import KNeighborsClassifier\n",
    "from sklearn.naive_bayes import GaussianNB\n",
    "from sklearn.tree import DecisionTreeClassifier\n",
    "\n",
    "from sklearn.metrics import confusion_matrix, classification_report\n",
    "from sklearn.model_selection import cross_val_score\n",
    "from sklearn.preprocessing import StandardScaler\n",
    "from sklearn.pipeline import make_pipeline\n",
    "from sklearn.model_selection import KFold, train_test_split"
   ]
  },
  {
   "cell_type": "markdown",
   "metadata": {},
   "source": [
    "# **4. 데이터 전처리**"
   ]
  },
  {
   "cell_type": "code",
   "execution_count": 2,
   "metadata": {},
   "outputs": [
    {
     "name": "stdout",
     "output_type": "stream",
     "text": [
      "<class 'pandas.core.frame.DataFrame'>\n",
      "RangeIndex: 27820 entries, 0 to 27819\n",
      "Data columns (total 12 columns):\n",
      " #   Column              Non-Null Count  Dtype  \n",
      "---  ------              --------------  -----  \n",
      " 0   country             27820 non-null  object \n",
      " 1   year                27820 non-null  int64  \n",
      " 2   sex                 27820 non-null  object \n",
      " 3   age                 27820 non-null  object \n",
      " 4   suicides_no         27820 non-null  int64  \n",
      " 5   population          27820 non-null  int64  \n",
      " 6   suicides/100k pop   27820 non-null  float64\n",
      " 7   country-year        27820 non-null  object \n",
      " 8   HDI for year        8364 non-null   float64\n",
      " 9   gdp_for_year ($)    27820 non-null  object \n",
      " 10  gdp_per_capita ($)  27820 non-null  int64  \n",
      " 11  generation          27820 non-null  object \n",
      "dtypes: float64(2), int64(4), object(6)\n",
      "memory usage: 2.5+ MB\n",
      "None\n"
     ]
    }
   ],
   "source": [
    "# Load Data\n",
    "data = pd.read_csv(\"master.csv\")\n",
    "\n",
    "print(data.info())"
   ]
  },
  {
   "cell_type": "markdown",
   "metadata": {},
   "source": [
    "### **4-a. Data Restructuring (데이터 재구조화)**"
   ]
  },
  {
   "cell_type": "markdown",
   "metadata": {},
   "source": [
    "#### **Table Decomposition**"
   ]
  },
  {
   "cell_type": "code",
   "execution_count": 3,
   "metadata": {},
   "outputs": [
    {
     "name": "stdout",
     "output_type": "stream",
     "text": [
      "<class 'pandas.core.frame.DataFrame'>\n",
      "RangeIndex: 27820 entries, 0 to 27819\n",
      "Data columns (total 10 columns):\n",
      " #   Column              Non-Null Count  Dtype  \n",
      "---  ------              --------------  -----  \n",
      " 0   country             27820 non-null  object \n",
      " 1   year                27820 non-null  int64  \n",
      " 2   sex                 27820 non-null  object \n",
      " 3   age                 27820 non-null  object \n",
      " 4   suicides/100k pop   27820 non-null  float64\n",
      " 5   country-year        27820 non-null  object \n",
      " 6   HDI for year        8364 non-null   float64\n",
      " 7   gdp_for_year ($)    27820 non-null  object \n",
      " 8   gdp_per_capita ($)  27820 non-null  int64  \n",
      " 9   generation          27820 non-null  object \n",
      "dtypes: float64(2), int64(2), object(6)\n",
      "memory usage: 2.1+ MB\n",
      "None\n"
     ]
    }
   ],
   "source": [
    "# Delete duplicate attribute: \"suicides_no\", \"population\"\n",
    "# \"suicides/100k pop\" * 10^5 = \"suicides_no\" / \"population\" \n",
    "data.drop(\"suicides_no\", axis = 1, inplace = True)\n",
    "data.drop(\"population\", axis = 1, inplace = True)\n",
    "\n",
    "print(data.info())"
   ]
  },
  {
   "cell_type": "code",
   "execution_count": 4,
   "metadata": {},
   "outputs": [
    {
     "name": "stdout",
     "output_type": "stream",
     "text": [
      "<class 'pandas.core.frame.DataFrame'>\n",
      "RangeIndex: 27820 entries, 0 to 27819\n",
      "Data columns (total 9 columns):\n",
      " #   Column              Non-Null Count  Dtype  \n",
      "---  ------              --------------  -----  \n",
      " 0   country             27820 non-null  object \n",
      " 1   year                27820 non-null  int64  \n",
      " 2   sex                 27820 non-null  object \n",
      " 3   age                 27820 non-null  object \n",
      " 4   suicides/100k pop   27820 non-null  float64\n",
      " 5   HDI for year        8364 non-null   float64\n",
      " 6   gdp_for_year ($)    27820 non-null  object \n",
      " 7   gdp_per_capita ($)  27820 non-null  int64  \n",
      " 8   generation          27820 non-null  object \n",
      "dtypes: float64(2), int64(2), object(5)\n",
      "memory usage: 1.9+ MB\n",
      "None\n"
     ]
    }
   ],
   "source": [
    "# Delete duplicate attribute: \"country-year\"\n",
    "# \"country\" and \"year\" attributes also exist separately\n",
    "data.drop(\"country-year\", axis = 1, inplace = True)\n",
    "\n",
    "print(data.info())"
   ]
  },
  {
   "cell_type": "code",
   "execution_count": 5,
   "metadata": {},
   "outputs": [
    {
     "name": "stdout",
     "output_type": "stream",
     "text": [
      "<class 'pandas.core.frame.DataFrame'>\n",
      "RangeIndex: 27820 entries, 0 to 27819\n",
      "Data columns (total 8 columns):\n",
      " #   Column              Non-Null Count  Dtype  \n",
      "---  ------              --------------  -----  \n",
      " 0   country             27820 non-null  object \n",
      " 1   year                27820 non-null  int64  \n",
      " 2   sex                 27820 non-null  object \n",
      " 3   age                 27820 non-null  object \n",
      " 4   suicides/100k pop   27820 non-null  float64\n",
      " 5   HDI for year        8364 non-null   float64\n",
      " 6   gdp_per_capita ($)  27820 non-null  int64  \n",
      " 7   generation          27820 non-null  object \n",
      "dtypes: float64(2), int64(2), object(4)\n",
      "memory usage: 1.7+ MB\n",
      "None\n"
     ]
    }
   ],
   "source": [
    "# Delete duplicate attribute: \"gdp_for_year ($)\"\n",
    "# \"gdp_for_year ($)\" is proportional to \"gdp_per_capita ($)\"\n",
    "data.drop(\"gdp_for_year ($)\", axis = 1, inplace = True)\n",
    "\n",
    "print(data.info())"
   ]
  },
  {
   "cell_type": "markdown",
   "metadata": {},
   "source": [
    "### **관련 설명**\n",
    "#### **\"suicides_no\", \"population\" 제거**\n",
    "`suicides/100k pop` 컬럼은 `suicides_no`를 *population*으로 나눈 후에 *100,000*을 곱한 값이다. 따라서 `suicides_no`와 *population*은 `suicides/100k pop`를 통해 이미 표현되고 있어서, 이 두 컬럼은 중복 정보를 제공하며, 데이터셋의 차원을 줄이기 위해 제거한다.\n",
    "<br>\n",
    "\n",
    "#### **\"country-year\" 제거**\n",
    "`country-year`는 **country**와 **year**의 결합된 정보를 제공하는 컬럼이다. 개별 컬럼을 사용하는 것이 데이터 처리에 더 유연하며, 필요한 경우 언제든지 이 두 속성을 결합하여 동일한 정보를 재생성할 수 있다.\n",
    "<br>\n",
    "\n",
    "#### **\"gdp_for_year ($)\" 제거**\n",
    "`gdp_for_year ($)`는 **국가의 연간 총 GDP**를 나타내고, `gdp_per_capita ($)`는 **인구 대비 GDP**를 나타낸다. 이 두 값은 서로 비례 관계에 있으므로 **국가의 총 GDP**는 *인구 수*와 *1인당 GDP*의 곱으로 계산될 수 있다. 이런 경우 `gdp_for_year ($)`는 `gdp_per_capita ($)`와 인구 데이터를 통해 추론할 수 있으므로, 중복되는 정보를 제공하고 데이터셋의 복잡성을 불필요하게 증가시킬 수 있어 제거한다."
   ]
  },
  {
   "cell_type": "markdown",
   "metadata": {},
   "source": [
    "### **4-b. Data Value Changes(데이터 값 변환)**"
   ]
  },
  {
   "cell_type": "markdown",
   "metadata": {},
   "source": [
    "#### **Cleaning dirty data**"
   ]
  },
  {
   "cell_type": "code",
   "execution_count": 6,
   "metadata": {},
   "outputs": [
    {
     "name": "stdout",
     "output_type": "stream",
     "text": [
      "Original Dataset:\n",
      "country                   0\n",
      "year                      0\n",
      "sex                       0\n",
      "age                       0\n",
      "suicides/100k pop         0\n",
      "HDI for year          19456\n",
      "gdp_per_capita ($)        0\n",
      "generation                0\n",
      "dtype: int64\n"
     ]
    }
   ],
   "source": [
    "# Check missing values in original dataset\n",
    "print(\"Original Dataset:\")\n",
    "print(data.isnull().sum())"
   ]
  },
  {
   "cell_type": "code",
   "execution_count": 7,
   "metadata": {},
   "outputs": [
    {
     "name": "stdout",
     "output_type": "stream",
     "text": [
      "Percentage of missing value of \"HDI for year\": 69.94%\n",
      "\n",
      "<class 'pandas.core.frame.DataFrame'>\n",
      "RangeIndex: 27820 entries, 0 to 27819\n",
      "Data columns (total 7 columns):\n",
      " #   Column              Non-Null Count  Dtype  \n",
      "---  ------              --------------  -----  \n",
      " 0   country             27820 non-null  object \n",
      " 1   year                27820 non-null  int64  \n",
      " 2   sex                 27820 non-null  object \n",
      " 3   age                 27820 non-null  object \n",
      " 4   suicides/100k pop   27820 non-null  float64\n",
      " 5   gdp_per_capita ($)  27820 non-null  int64  \n",
      " 6   generation          27820 non-null  object \n",
      "dtypes: float64(1), int64(2), object(4)\n",
      "memory usage: 1.5+ MB\n",
      "None\n"
     ]
    }
   ],
   "source": [
    "# Determine what percentage is missing : 69.94%\n",
    "missing_value = sum(pd.isnull(data[\"HDI for year\"]))/len(data[\"HDI for year\"])\n",
    "print(f\"Percentage of missing value of \\\"HDI for year\\\": {missing_value * 100:.2f}%\\n\")\n",
    "\n",
    "# Delete missing attribute: \"HDI for year\"\n",
    "data.drop(\"HDI for year\", axis = 1, inplace = True)\n",
    "\n",
    "print(data.info())"
   ]
  },
  {
   "cell_type": "markdown",
   "metadata": {},
   "source": [
    "### **관련 설명**\n",
    "데이터셋에서 각 컬럼별로 누락된 값의 수를 계산하여, `HDI for year`컬럼의 누락된 값의 수가 같은 컬럼 내의 전체 데이터의 70%에 달하는 걸 도출했다. -> `HDI for year` 컬럼 삭제\n"
   ]
  },
  {
   "cell_type": "markdown",
   "metadata": {},
   "source": [
    "#### **Text preprocessing**"
   ]
  },
  {
   "cell_type": "code",
   "execution_count": 8,
   "metadata": {},
   "outputs": [
    {
     "name": "stdout",
     "output_type": "stream",
     "text": [
      "0        15-24\n",
      "1        35-54\n",
      "2        15-24\n",
      "3          75+\n",
      "4        25-34\n",
      "         ...  \n",
      "27815    35-54\n",
      "27816      75+\n",
      "27817     5-14\n",
      "27818     5-14\n",
      "27819    55-74\n",
      "Name: age, Length: 27820, dtype: object\n"
     ]
    }
   ],
   "source": [
    "# Remove 'years' text\n",
    "data[\"age\"] = data[\"age\"].str.strip(\" years\")\n",
    "\n",
    "print(data['age'])"
   ]
  },
  {
   "cell_type": "markdown",
   "metadata": {},
   "source": [
    "### **관련 설명**\n",
    "`age` 컬럼에 **years** 텍스트를 제거한다"
   ]
  },
  {
   "cell_type": "markdown",
   "metadata": {},
   "source": [
    "#### **Data discretization**"
   ]
  },
  {
   "cell_type": "code",
   "execution_count": 9,
   "metadata": {},
   "outputs": [
    {
     "name": "stdout",
     "output_type": "stream",
     "text": [
      "0        20\n",
      "1        45\n",
      "2        20\n",
      "3        80\n",
      "4        30\n",
      "         ..\n",
      "27815    45\n",
      "27816    80\n",
      "27817    10\n",
      "27818    10\n",
      "27819    65\n",
      "Name: age, Length: 27820, dtype: int64\n"
     ]
    }
   ],
   "source": [
    "# Change the string of the age to an integer\n",
    "\n",
    "# Define the function to convert age strings to integers\n",
    "def convert_age(age):\n",
    "    if '75+' in age:\n",
    "        return 80\n",
    "    elif '55-74' in age:\n",
    "        return 65\n",
    "    elif '35-54' in age:\n",
    "        return 45\n",
    "    elif '25-34' in age:\n",
    "        return 30\n",
    "    elif '15-24' in age:\n",
    "        return 20\n",
    "    elif '5-14' in age:\n",
    "        return 10\n",
    "    else:\n",
    "        return None\n",
    "\n",
    "# Apply the function to the 'age' column in both train and test datasets\n",
    "data['age'] = data['age'].apply(convert_age)\n",
    "\n",
    "# Verify the changes by grouping by age and calculating the mean suicide rate\n",
    "age_grouped = data[['age', 'suicides/100k pop']].groupby('age', as_index=False).mean().sort_values(by='suicides/100k pop', ascending=False)\n",
    "\n",
    "# Display the results\n",
    "print(data['age'])"
   ]
  },
  {
   "cell_type": "markdown",
   "metadata": {},
   "source": [
    "### **관련 설명**\n",
    "데이터 타입을 **object타입**에서 **int타입**으로 바꾸고, 각 연령대의 *중간값*으로 인코딩했다. "
   ]
  },
  {
   "cell_type": "markdown",
   "metadata": {},
   "source": [
    "#### **Encoding for data mining algorighoms**"
   ]
  },
  {
   "cell_type": "code",
   "execution_count": 10,
   "metadata": {},
   "outputs": [
    {
     "name": "stdout",
     "output_type": "stream",
     "text": [
      "0        1\n",
      "1        1\n",
      "2        0\n",
      "3        1\n",
      "4        1\n",
      "        ..\n",
      "27815    0\n",
      "27816    0\n",
      "27817    1\n",
      "27818    0\n",
      "27819    0\n",
      "Name: sex, Length: 27820, dtype: int64\n"
     ]
    }
   ],
   "source": [
    "# Pre-processing sex property using label encoding\n",
    "\n",
    "# Define the mapping function using map\n",
    "sex_mapping = {'female': 0, 'male': 1}\n",
    "\n",
    "data['sex'] = data['sex'].map(sex_mapping)\n",
    "\n",
    "# Verify the changes by grouping by sex and calculating the mean suicide rate\n",
    "sex_grouped = data[['sex', 'suicides/100k pop']].groupby('sex', as_index=False).mean().sort_values(by='suicides/100k pop', ascending=False)\n",
    "\n",
    "# Display the results\n",
    "print(data['sex'])"
   ]
  },
  {
   "cell_type": "markdown",
   "metadata": {},
   "source": [
    "### **관련 설명**\n",
    "**라벨 인코딩**을 사용하여 **남자**는 **1**, **여자**는 **0**으로 변환하였다"
   ]
  },
  {
   "cell_type": "code",
   "execution_count": 11,
   "metadata": {},
   "outputs": [
    {
     "name": "stdout",
     "output_type": "stream",
     "text": [
      "<class 'pandas.core.frame.DataFrame'>\n",
      "RangeIndex: 27820 entries, 0 to 27819\n",
      "Data columns (total 12 columns):\n",
      " #   Column                      Non-Null Count  Dtype  \n",
      "---  ------                      --------------  -----  \n",
      " 0   country                     27820 non-null  object \n",
      " 1   year                        27820 non-null  int64  \n",
      " 2   sex                         27820 non-null  int64  \n",
      " 3   age                         27820 non-null  int64  \n",
      " 4   suicides/100k pop           27820 non-null  float64\n",
      " 5   gdp_per_capita ($)          27820 non-null  int64  \n",
      " 6   generation_Boomers          27820 non-null  bool   \n",
      " 7   generation_G.I. Generation  27820 non-null  bool   \n",
      " 8   generation_Generation X     27820 non-null  bool   \n",
      " 9   generation_Generation Z     27820 non-null  bool   \n",
      " 10  generation_Millenials       27820 non-null  bool   \n",
      " 11  generation_Silent           27820 non-null  bool   \n",
      "dtypes: bool(6), float64(1), int64(4), object(1)\n",
      "memory usage: 1.4+ MB\n",
      "None\n"
     ]
    }
   ],
   "source": [
    "# Pre-processing generation property using one-hot encoding\n",
    "data_encoded = pd.get_dummies(data, columns=['generation'])\n",
    "\n",
    "# Extract the column names generated by one-hot encoding\n",
    "one_hot_columns = [col for col in data_encoded.columns if 'generation_' in col]\n",
    "\n",
    "# Add one-hot encoded columns to the original data frame\n",
    "data = data.join(data_encoded[one_hot_columns])\n",
    "\n",
    "# Drop the original 'generation' column\n",
    "data.drop(columns=['generation'], inplace=True)\n",
    "\n",
    "print(data.info())"
   ]
  },
  {
   "cell_type": "markdown",
   "metadata": {},
   "source": [
    "### **4-c. Feature Engineering(특성 엔지니어링)**"
   ]
  },
  {
   "cell_type": "markdown",
   "metadata": {},
   "source": [
    "#### **Feature Creation**"
   ]
  },
  {
   "cell_type": "code",
   "execution_count": 12,
   "metadata": {},
   "outputs": [
    {
     "name": "stdout",
     "output_type": "stream",
     "text": [
      "<class 'pandas.core.frame.DataFrame'>\n",
      "RangeIndex: 27820 entries, 0 to 27819\n",
      "Data columns (total 13 columns):\n",
      " #   Column                      Non-Null Count  Dtype  \n",
      "---  ------                      --------------  -----  \n",
      " 0   country                     27820 non-null  object \n",
      " 1   year                        27820 non-null  int64  \n",
      " 2   sex                         27820 non-null  int64  \n",
      " 3   age                         27820 non-null  int64  \n",
      " 4   suicides/100k pop           27820 non-null  float64\n",
      " 5   gdp_per_capita ($)          27820 non-null  int64  \n",
      " 6   generation_Boomers          27820 non-null  bool   \n",
      " 7   generation_G.I. Generation  27820 non-null  bool   \n",
      " 8   generation_Generation X     27820 non-null  bool   \n",
      " 9   generation_Generation Z     27820 non-null  bool   \n",
      " 10  generation_Millenials       27820 non-null  bool   \n",
      " 11  generation_Silent           27820 non-null  bool   \n",
      " 12  Over_threshold_suicides     27820 non-null  int32  \n",
      "dtypes: bool(6), float64(1), int32(1), int64(4), object(1)\n",
      "memory usage: 1.5+ MB\n",
      "None\n"
     ]
    }
   ],
   "source": [
    "# Calculate the mean suicide rate\n",
    "mean_suicide_rate = data[\"suicides/100k pop\"].mean()\n",
    "threshold = mean_suicide_rate\n",
    "\n",
    "# Create a new attribute, Over_threshold_suicides\n",
    "# 1 if the suicide rate is higher than the mean suicide rate, 0 otherwise\n",
    "data[\"Over_threshold_suicides\"] = np.where(data[\"suicides/100k pop\"] > threshold, 1, 0)\n",
    "\n",
    "# Print the updated DataFrame information to see the new attribute and changes\n",
    "print(data.info())\n"
   ]
  },
  {
   "cell_type": "code",
   "execution_count": 13,
   "metadata": {},
   "outputs": [
    {
     "name": "stdout",
     "output_type": "stream",
     "text": [
      "Data with Target Encoding on 'country':\n",
      "0        3.494650\n",
      "1        3.526042\n",
      "2        3.460366\n",
      "3        3.502403\n",
      "4        3.494650\n",
      "           ...   \n",
      "27815    8.094891\n",
      "27816    8.334615\n",
      "27817    8.094891\n",
      "27818    7.885556\n",
      "27819    8.150212\n",
      "Name: country_encoded, Length: 27820, dtype: float64\n"
     ]
    },
    {
     "name": "stderr",
     "output_type": "stream",
     "text": [
      "C:\\TempFolder\\ipykernel_10780\\1141463371.py:21: FutureWarning: A value is trying to be set on a copy of a DataFrame or Series through chained assignment using an inplace method.\n",
      "The behavior will change in pandas 3.0. This inplace method will never work because the intermediate object on which we are setting values always behaves as a copy.\n",
      "\n",
      "For example, when doing 'df[col].method(value, inplace=True)', try using 'df.method({col: value}, inplace=True)' or df[col] = df[col].method(value) instead, to perform the operation inplace on the original object.\n",
      "\n",
      "\n",
      "  data['country_encoded'].fillna(global_mean, inplace=True)\n"
     ]
    }
   ],
   "source": [
    "# Initialize KFold\n",
    "kf = KFold(n_splits=10, shuffle=True, random_state=33)\n",
    "\n",
    "# Prepare the new encoded column\n",
    "data['country_encoded'] = 0.0\n",
    "\n",
    "# Perform target encoding using KFold\n",
    "for train_index, val_index in kf.split(data):\n",
    "    train_fold, val_fold = data.iloc[train_index], data.iloc[val_index]\n",
    "    mean_encoded = train_fold.groupby('country')['suicides/100k pop'].mean()\n",
    "    data.loc[val_index, 'country_encoded'] = val_fold['country'].map(mean_encoded)\n",
    "\n",
    "# Split the data into training and testing datasets\n",
    "# Normally done for dividing data, but here it is used as an example to split part of the data arbitrarily\n",
    "train_data = data.sample(frac=0.8, random_state=33)\n",
    "test_data = data.drop(train_data.index)\n",
    "\n",
    "# Use mean encoding for the test dataset\n",
    "# Use the mean calculated from the entire dataset\n",
    "global_mean = data['suicides/100k pop'].mean()\n",
    "data['country_encoded'].fillna(global_mean, inplace=True)\n",
    "\n",
    "# Drop the original 'country' column\n",
    "data.drop(columns=['country'], inplace=True)\n",
    "\n",
    "# Print the results\n",
    "print(\"Data with Target Encoding on 'country':\")\n",
    "print(data['country_encoded'])\n"
   ]
  },
  {
   "cell_type": "markdown",
   "metadata": {},
   "source": [
    "새로운 속성 `Over_threshold_suicides` 생성: 이 속성은 `suicides/100k pop`이 **threshold**를 초과하는지 여부를 확인하여, 0과 1로 표기한다\n",
    "\n",
    "`KFold 교차 검증`을 통한 **타깃 인코딩**: 각 국가별로 `suicides/100k pop`의 평균을 계산하고, 이를 각 검증 세트에 메핑하여 **국가별 자살률의 평균**으로 새로운 컬럼 `country_encoded`를 만든다"
   ]
  },
  {
   "cell_type": "markdown",
   "metadata": {},
   "source": [
    "### **4-d. Data Reduction(데이터 축약)**"
   ]
  },
  {
   "cell_type": "markdown",
   "metadata": {},
   "source": [
    "#### **Data Filtering**"
   ]
  },
  {
   "cell_type": "code",
   "execution_count": 14,
   "metadata": {},
   "outputs": [
    {
     "name": "stdout",
     "output_type": "stream",
     "text": [
      "X_train shape: (19474, 11)\n",
      "Y_train shape: (19474,)\n",
      "X_test shape: (8346, 11)\n",
      "Y_test shape: (8346,)\n"
     ]
    }
   ],
   "source": [
    "# Split the entire dataset into training and testing data with a 70:30 ratio\n",
    "train_data, test_data = train_test_split(data, test_size=0.3, random_state=33)\n",
    "\n",
    "# Use the properties we created ('Over_threshold_suicides') as predictions\n",
    "# Remove 'suicides/100k pop', a factor that affects prediction\n",
    "\n",
    "# Ensure that all necessary columns are present and no unnecessary columns are dropped\n",
    "columns_to_drop = [\"Over_threshold_suicides\", \"suicides/100k pop\"]\n",
    "\n",
    "# Drop columns in a single operation for both train and test sets\n",
    "X_train = train_data.drop(columns=columns_to_drop)\n",
    "Y_train = train_data[\"Over_threshold_suicides\"]\n",
    "\n",
    "X_test = test_data.drop(columns=columns_to_drop).copy()\n",
    "Y_test = test_data[\"Over_threshold_suicides\"]\n",
    "\n",
    "# Print the shapes of X_train, Y_train, and X_test to verify\n",
    "print(f\"X_train shape: {X_train.shape}\")\n",
    "print(f\"Y_train shape: {Y_train.shape}\")\n",
    "print(f\"X_test shape: {X_test.shape}\")\n",
    "print(f\"Y_test shape: {Y_test.shape}\")"
   ]
  },
  {
   "cell_type": "markdown",
   "metadata": {},
   "source": [
    "#### **관련 해설**\n",
    "전체 데이터 셋을 훈련 데이터와 테스트 데이터로 **7:3 비율**로 분할한다. `Over_threshold_suicides` 속성을 예측 변수로 사용하며, 예측에 영향을 줄 수 있는 `suicides/100k pop` 컬럼은 제거한다"
   ]
  },
  {
   "cell_type": "code",
   "execution_count": 15,
   "metadata": {},
   "outputs": [
    {
     "name": "stdout",
     "output_type": "stream",
     "text": [
      "data shape:  (27820, 13) \n",
      "\n",
      "<class 'pandas.core.frame.DataFrame'>\n",
      "RangeIndex: 27820 entries, 0 to 27819\n",
      "Data columns (total 13 columns):\n",
      " #   Column                      Non-Null Count  Dtype  \n",
      "---  ------                      --------------  -----  \n",
      " 0   year                        27820 non-null  int64  \n",
      " 1   sex                         27820 non-null  int64  \n",
      " 2   age                         27820 non-null  int64  \n",
      " 3   suicides/100k pop           27820 non-null  float64\n",
      " 4   gdp_per_capita ($)          27820 non-null  int64  \n",
      " 5   generation_Boomers          27820 non-null  bool   \n",
      " 6   generation_G.I. Generation  27820 non-null  bool   \n",
      " 7   generation_Generation X     27820 non-null  bool   \n",
      " 8   generation_Generation Z     27820 non-null  bool   \n",
      " 9   generation_Millenials       27820 non-null  bool   \n",
      " 10  generation_Silent           27820 non-null  bool   \n",
      " 11  Over_threshold_suicides     27820 non-null  int32  \n",
      " 12  country_encoded             27820 non-null  float64\n",
      "dtypes: bool(6), float64(2), int32(1), int64(4)\n",
      "memory usage: 1.5 MB\n",
      "None\n"
     ]
    }
   ],
   "source": [
    "print(\"data shape: \", data.shape, \"\\n\")\n",
    "print(data.info())"
   ]
  },
  {
   "cell_type": "markdown",
   "metadata": {},
   "source": [
    "### **1. [Classification] Logistic Regression**\n",
    "선형 분류기로, 결과가 **범주형 데이터**인 경우에 적합하다. *이진* 또는 *다중* 클래스 분류 문제에 주로 사용된다."
   ]
  },
  {
   "cell_type": "code",
   "execution_count": 16,
   "metadata": {},
   "outputs": [
    {
     "name": "stdout",
     "output_type": "stream",
     "text": [
      "Training Accuracy:  86.202\n",
      "Classification Report:\n",
      "              precision    recall  f1-score   support\n",
      "\n",
      "           0       0.89      0.91      0.90     13392\n",
      "           1       0.80      0.75      0.77      6082\n",
      "\n",
      "    accuracy                           0.86     19474\n",
      "   macro avg       0.84      0.83      0.84     19474\n",
      "weighted avg       0.86      0.86      0.86     19474\n",
      "\n"
     ]
    },
    {
     "data": {
      "image/png": "[encoded data removed]",
      "text/plain": [
       "<Figure size 640x480 with 2 Axes>"
      ]
     },
     "metadata": {},
     "output_type": "display_data"
    },
    {
     "name": "stdout",
     "output_type": "stream",
     "text": [
      "K-Fold Cross-Validation Scores: [0.85164271 0.85882957 0.86601643 0.86088296 0.86132512 0.86902928\n",
      " 0.86389317 0.8751926  0.86646122 0.84643041]\n",
      "Average 10-Fold CV Score: 0.862, with a standard deviation of 0.008\n",
      "Precision: 0.799, Recall: 0.745, F1-Score: 0.771\n"
     ]
    }
   ],
   "source": [
    "# 1. Logistic Regression Model\n",
    "logreg = make_pipeline(StandardScaler(), LogisticRegression(solver='lbfgs', max_iter=1000))\n",
    "\n",
    "# Train the model\n",
    "logreg.fit(X_train, Y_train)\n",
    "\n",
    "# Predict on the training set and calculate accuracy\n",
    "Y_pred = logreg.predict(X_test)\n",
    "acc_log = round(logreg.score(X_train, Y_train) * 100, 3)\n",
    "print(\"Training Accuracy: \", acc_log)\n",
    "\n",
    "# Evaluate the model using classification report\n",
    "print(\"Classification Report:\")\n",
    "print(classification_report(Y_train, logreg.predict(X_train)))\n",
    "\n",
    "# Display confusion matrix\n",
    "conf_matrix = confusion_matrix(Y_train, logreg.predict(X_train))\n",
    "sns.heatmap(conf_matrix, annot=True, fmt='d', cmap='Blues', xticklabels=['Yes', 'No'], yticklabels=['Yes', 'No'])\n",
    "plt.xlabel('Predicted')\n",
    "plt.ylabel('Actual')\n",
    "plt.title('Confusion Matrix')\n",
    "plt.show()\n",
    "\n",
    "# Perform K-Fold cross-validation\n",
    "kf = KFold(n_splits=10, shuffle=True, random_state=33)\n",
    "cv_results = cross_val_score(logreg, X_train, Y_train, cv=kf, scoring='accuracy')\n",
    "\n",
    "# Print the cross-validation results\n",
    "print(f\"K-Fold Cross-Validation Scores: {cv_results}\")\n",
    "print(f\"Average 10-Fold CV Score: {cv_results.mean():.3f}, with a standard deviation of {cv_results.std():.3f}\")\n",
    "\n",
    "# Using different scoring metrics for cross-validation\n",
    "scores_precision = cross_val_score(logreg, X_train, Y_train, cv=kf, scoring='precision')\n",
    "scores_recall = cross_val_score(logreg, X_train, Y_train, cv=kf, scoring='recall')\n",
    "scores_f1 = cross_val_score(logreg, X_train, Y_train, cv=kf, scoring='f1')\n",
    "\n",
    "print(f\"Precision: {scores_precision.mean():.3f}, Recall: {scores_recall.mean():.3f}, F1-Score: {scores_f1.mean():.3f}\")\n"
   ]
  },
  {
   "cell_type": "markdown",
   "metadata": {},
   "source": [
    "### **Logistic Regression 모델 평가**\n",
    "\n",
    "### 1. Training Accuracy\n",
    "\n",
    "- **훈련 정확도**: **86.202%**\n",
    "    - 이 모델은 훈련 데이터에 대해 `약 86%`의 정확도로 올바른 예측을 수행했다. 일반적으로 높은 훈련 정확도는 모델이 데이터를 잘 학습했다는 지표이지만, **과적합 여부**를 추가로 확인할 필요가 있다.\n",
    "\n",
    "### 2. Classification Report\n",
    "\n",
    "- **정밀도(Precision)**, **재현율(Recall)**, **F1-Score**\n",
    "    - **클래스 0 (양성)**\n",
    "        - **정밀도**: *0.89* - 모델이 예측한 'Yes' 중 `89%`가 실제로 'Yes'\n",
    "        - **재현율**: *0.91* - 실제 'Yes' 중 `91%`를 모델이 'Yes'로 정확히 예측\n",
    "        - **F1-Score**: *0.90* - **정밀도**와 **재현율**의 조화 평균\n",
    "    - **클래스 1 (음성)**\n",
    "        - **정밀도**: *0.80* - 모델이 예측한 'No' 중 `80%`가 실제로 'No'\n",
    "        - **재현율**: *0.75* - 실제 'No' 중 `75%`를 모델이 'No'로 정확히 예측\n",
    "        - **F1-Score**: *0.77* - `정밀도`와 `재현율`의 조화 평균\n",
    "    - 이 모델은 `클래스 0(양성)`을 예측하는 데 더 **정확**하고 **일관성** 있는 성능을 보이며, `클래스 1(음성)`에 대해서는 다소 **낮은 성능**을 보인다.\n",
    "\n",
    "### 3. K-Fold Cross-Validation\n",
    "\n",
    "- **교차 검증 점수**: **평균** *0.862*, **표준편차** *0.008*\n",
    "    - 교차 검증을 통한 모델의 일반화 가능성 평가에서 모델은 `약 86%`의 **평균 정확도**를 보여주며, 비교적 낮은 `**`표준 편차(0.008)`는 모델 성능의 안정성을 나타낸다.\n",
    "    - 이는 모델이 다양한 **하위 데이터셋**에서도 일관된 성능을 유지할 수 있음을 보여준다.\n",
    "\n",
    "### 4. 다양한 교차 검증 지표\n",
    "\n",
    "- **정밀도**: *0.799*\n",
    "- **재현율**: *0.745*\n",
    "- **F1-Score**: *0.771*\n",
    "    - **교차 검증** 결과, **정밀도**와 **재현율**의 값이 전체적으로 줄어들었기 때문에, 모델이 모든 *클래스*를 공평하게 잘 처리하고 있지 않다는 점을 알 수 있다. 특히 어떤 *클래스*는 잘 예측하지만 다른 *클래스*는 그렇지 못할 수 있다는 점을 시사한다.\n",
    "\n",
    "**`분석 결과, 로지스틱 회귀 모델은 전반적으로 훈련 데이터에 대해 비교적 높은 성능을 보이나, 교차 검증을 통한 평가에서는 성능이 다소 감소하는 경향을 보였다. 특히 음성 클래스에 대한 예측이 양성 클래스에 대한 예측보다 개선이 필요함을 보여준다. 자살률을 예측하는 모델로는 좋지 않은 결과라고 분석할 수 있기 때문에 개선의 여지가 있어 보인다.`**"
   ]
  },
  {
   "cell_type": "markdown",
   "metadata": {},
   "source": [
    "### **2. [Classification] Decision Tree**\n",
    "직관적인 모델로, 데이터를 **트리 구조**의 집합으로 분할하여 결정을 내리는 방식을 사용한다. 해석이 *쉽고* *다목적으로 활용* 가능하다"
   ]
  },
  {
   "cell_type": "code",
   "execution_count": 17,
   "metadata": {},
   "outputs": [
    {
     "name": "stdout",
     "output_type": "stream",
     "text": [
      "Training Accuracy:  100.0\n",
      "Classification Report:\n",
      "              precision    recall  f1-score   support\n",
      "\n",
      "           0       1.00      1.00      1.00     13392\n",
      "           1       1.00      1.00      1.00      6082\n",
      "\n",
      "    accuracy                           1.00     19474\n",
      "   macro avg       1.00      1.00      1.00     19474\n",
      "weighted avg       1.00      1.00      1.00     19474\n",
      "\n"
     ]
    },
    {
     "data": {
      "image/png": "[encoded data removed]",
      "text/plain": [
       "<Figure size 640x480 with 2 Axes>"
      ]
     },
     "metadata": {},
     "output_type": "display_data"
    },
    {
     "name": "stdout",
     "output_type": "stream",
     "text": [
      "K-Fold Cross-Validation Scores: [0.90297741 0.91067762 0.91735113 0.91427105 0.91114535 0.90755008\n",
      " 0.91011813 0.91268618 0.91987673 0.90909091]\n",
      "Average 10-Fold CV Score: 0.912, with a standard deviation of 0.005\n",
      "Precision: 0.856, Recall: 0.862, F1-Score: 0.859\n"
     ]
    }
   ],
   "source": [
    "# 2. Decision Tree\n",
    "decision_tree = DecisionTreeClassifier(random_state=33)\n",
    "decision_tree.fit(X_train, Y_train)\n",
    "\n",
    "# Predict on the training set\n",
    "Y_pred = decision_tree.predict(X_test)\n",
    "acc_decision_tree = round(decision_tree.score(X_train, Y_train) * 100, 3)\n",
    "print(\"Training Accuracy: \", acc_decision_tree)\n",
    "\n",
    "# Evaluate the model using classification report\n",
    "print(\"Classification Report:\")\n",
    "print(classification_report(Y_train, decision_tree.predict(X_train)))\n",
    "\n",
    "# Display confusion matrix\n",
    "conf_matrix = confusion_matrix(Y_train, decision_tree.predict(X_train))\n",
    "sns.heatmap(conf_matrix, annot=True, fmt='d', cmap='Blues', xticklabels=['Yes', 'No'], yticklabels=['Yes', 'No'])\n",
    "plt.xlabel('Predicted')\n",
    "plt.ylabel('Actual')\n",
    "plt.title('Confusion Matrix')\n",
    "plt.show()\n",
    "\n",
    "# Perform K-Fold cross-validation\n",
    "kf = KFold(n_splits=10, shuffle=True, random_state=33)\n",
    "cv_results = cross_val_score(decision_tree, X_train, Y_train, cv=kf, scoring='accuracy')\n",
    "\n",
    "# Print the cross-validation results\n",
    "print(f\"K-Fold Cross-Validation Scores: {cv_results}\")\n",
    "print(f\"Average 10-Fold CV Score: {cv_results.mean():.3f}, with a standard deviation of {cv_results.std():.3f}\")\n",
    "\n",
    "# Using different scoring metrics for cross-validation\n",
    "scores_precision = cross_val_score(decision_tree, X_train, Y_train, cv=kf, scoring='precision')\n",
    "scores_recall = cross_val_score(decision_tree, X_train, Y_train, cv=kf, scoring='recall')\n",
    "scores_f1 = cross_val_score(decision_tree, X_train, Y_train, cv=kf, scoring='f1')\n",
    "\n",
    "print(f\"Precision: {scores_precision.mean():.3f}, Recall: {scores_recall.mean():.3f}, F1-Score: {scores_f1.mean():.3f}\")"
   ]
  },
  {
   "cell_type": "markdown",
   "metadata": {},
   "source": [
    "### **Decision Tree 모델 평가**\n",
    "\n",
    "#### 1. Training Accuracy\n",
    "\n",
    "- **훈련 정확도**: **100.0%**\n",
    "  - 이 모델은 훈련 데이터에 대해 `완벽하게` 적합되었음을 나타내며, 모든 데이터 포인트를 정확하게 분류했다. 이는 일반적으로 **과적합**을 의미할 수 있다.\n",
    "\n",
    "#### 2. Classification Report\n",
    "\n",
    "- **정밀도(Precision)**, **재현율(Recall)**, **F1-Score**:\n",
    "  - **클래스 0 (양성)**:\n",
    "    - **정밀도**: *1.00* - 모든 'Yes' 예측이 정확\n",
    "    - **재현율**: *1.00* - 모든 실제 'Yes'를 정확히 예측\n",
    "    - **F1-Score**: *1.00* - **정밀도**와 **재현율**의 완벽한 조화\n",
    "  - **클래스 1 (No)**:\n",
    "    - **정밀도**: *1.00* - 모든 'No' 예측이 정확\n",
    "    - **재현율**: *1.00* - 모든 실제 'No'를 정확히 예측\n",
    "    - **F1-Score**: *1.00* - **정밀도**와 **재현율**의 완벽한 조화\n",
    "  - 이러한 `완벽한 메트릭`은 모델이 훈련 데이터에 **과적합**됐을 가능성을 시사한다.\n",
    "\n",
    "#### 3. K-Fold Cross-Validation\n",
    "\n",
    "- **교차 검증 점수**: **평균** *0.912*, **표준 편차**: *0.005*\n",
    "  - 교차 검증 결과는 훈련 정확도에 비해 `낮으며`, 이는 모델이 훈련 데이터에 **과적합**되었을 가능성을 다시 한 번 시사한다.\n",
    "\n",
    "#### 4. 다양한 교차 검증 지표\n",
    "\n",
    "- **정밀도(Precision)**: *0.856*\n",
    "- **재현율(Recall)**: *0.862*\n",
    "- **F1-Score**: *0.859*\n",
    "  - 추가 **교차 검증** 메트릭은 좋은 성능을 보이지만, 완벽한 훈련 데이터 성능에는 미치지 못했다. 이는 모델이 실제 환경에서도 `어느 정도 잘 수행`될 수 있음을 나타내지만, 완벽한 훈련 성능에는 미치지 못하는 결과이다.\n",
    "\n",
    "**`분석 결과, Decision Tree 모델은 훈련 데이터에 완벽하게 적합되었으나, 교차 검증을 통한 평가에서는 성능이 다소 감소하는 경향을 보였다. 특히, 과적합의 가능성을 감안할 때 실제 환경에서의 성능은 훈련 성능만큼 높지 않을 수 있다.`**\n"
   ]
  },
  {
   "cell_type": "markdown",
   "metadata": {},
   "source": [
    "### **3. [Classification] K-Nearest Neighbors (KNN)**\n",
    "인스턴스 기반 학습 알고리즘으로, 가장 가까운 *K*개의 이웃 데이터를 바탕으로 분류 또는 회귀를 수행한다. 데이터가 **적을 때** 유용하다"
   ]
  },
  {
   "cell_type": "code",
   "execution_count": 18,
   "metadata": {},
   "outputs": [
    {
     "name": "stdout",
     "output_type": "stream",
     "text": [
      "Training Accuracy:  86.752\n",
      "Classification Report:\n",
      "              precision    recall  f1-score   support\n",
      "\n",
      "           0       0.88      0.93      0.91     13392\n",
      "           1       0.83      0.72      0.77      6082\n",
      "\n",
      "    accuracy                           0.87     19474\n",
      "   macro avg       0.86      0.83      0.84     19474\n",
      "weighted avg       0.87      0.87      0.86     19474\n",
      "\n"
     ]
    },
    {
     "data": {
      "image/png": "[encoded data removed]",
      "text/plain": [
       "<Figure size 640x480 with 2 Axes>"
      ]
     },
     "metadata": {},
     "output_type": "display_data"
    },
    {
     "name": "stdout",
     "output_type": "stream",
     "text": [
      "K-Fold Cross-Validation Scores: [0.70225873 0.70123203 0.69969199 0.69712526 0.67950693 0.69491525\n",
      " 0.69440164 0.70724191 0.71751412 0.71032357]\n",
      "Average 10-Fold CV Score: 0.700, with a standard deviation of 0.010\n",
      "Precision: 0.523, Recall: 0.452, F1-Score: 0.485\n"
     ]
    }
   ],
   "source": [
    "# 3. K-Nearest Neighbors\n",
    "knn = KNeighborsClassifier(n_neighbors=3)\n",
    "knn.fit(X_train, Y_train)\n",
    "\n",
    "# Predict on the training set\n",
    "Y_pred = knn.predict(X_test)\n",
    "acc_knn = round(knn.score(X_train, Y_train) * 100, 3)\n",
    "print(\"Training Accuracy: \", acc_knn)\n",
    "\n",
    "# Evaluate the model using classification report\n",
    "print(\"Classification Report:\")\n",
    "print(classification_report(Y_train, knn.predict(X_train)))\n",
    "\n",
    "# Display confusion matrix\n",
    "conf_matrix = confusion_matrix(Y_train, knn.predict(X_train))\n",
    "sns.heatmap(conf_matrix, annot=True, fmt='d', cmap='Blues', xticklabels=['Yes', 'No'], yticklabels=['Yes', 'No'])\n",
    "plt.xlabel('Predicted')\n",
    "plt.ylabel('Actual')\n",
    "plt.title('Confusion Matrix')\n",
    "plt.show()\n",
    "\n",
    "# Perform K-Fold cross-validation\n",
    "kf = KFold(n_splits=10, shuffle=True, random_state=33)\n",
    "cv_results = cross_val_score(knn, X_train, Y_train, cv=kf, scoring='accuracy')\n",
    "\n",
    "# Print the cross-validation results\n",
    "print(f\"K-Fold Cross-Validation Scores: {cv_results}\")\n",
    "print(f\"Average 10-Fold CV Score: {cv_results.mean():.3f}, with a standard deviation of {cv_results.std():.3f}\")\n",
    "\n",
    "# Using different scoring metrics for cross-validation\n",
    "scores_precision = cross_val_score(knn, X_train, Y_train, cv=kf, scoring='precision')\n",
    "scores_recall = cross_val_score(knn, X_train, Y_train, cv=kf, scoring='recall')\n",
    "scores_f1 = cross_val_score(knn, X_train, Y_train, cv=kf, scoring='f1')\n",
    "\n",
    "print(f\"Precision: {scores_precision.mean():.3f}, Recall: {scores_recall.mean():.3f}, F1-Score: {scores_f1.mean():.3f}\")"
   ]
  },
  {
   "cell_type": "markdown",
   "metadata": {},
   "source": [
    "### **K-Nearest Neighbors (KNN) 모델 평가**\n",
    "#### 1. Training Accuracy\n",
    "- **훈련 정확도**: **86.752%**\n",
    "  - 이 모델은 훈련 데이터에 대해 `약 87%`의 정확도로 올바른 예측을 수행했습니다. 이는 모델이 데이터의 패턴을 비교적 잘 학습하고 있음을 보여준다.\n",
    "\n",
    "#### 2. Classification Report\n",
    "- **정밀도(Precision)**, **재현율(Recall)**, **F1-Score**:\n",
    "  - **클래스 0 (양성)**:\n",
    "    - **정밀도**: *0.88* - 예측된 'Yes' 중 `88%`가 실제로 'Yes'\n",
    "    - **재현율**: *0.93* - 실제 'Yes' 중 `93%`가 정확히 예측됨\n",
    "    - **F1-Score**: *0.91* - 정밀도와 재현율의 조화 평균\n",
    "  - **클래스 1 (음성)**:\n",
    "    - **정밀도**: *0.83* - 예측된 'No' 중 `83%`가 실제로 'No'\n",
    "    - **재현율**: *0.72* - 실제 'No' 중 `72%`가 정확히 예측됨\n",
    "    - **F1-Score**: *0.77* - 정밀도와 재현율의 조화 평균\n",
    "  - 이 모델은 `클래스 0(양성)`을 보다 효과적으로 예측하고 있으며, `클래스 1(음성)`의 예측에 있어서는 **다소 개선**이 필요함을 보여준다.\n",
    "\n",
    "#### 3. K-Fold Cross-Validation\n",
    "- **교차 검증 점수**: **평균**: *0.700*, **표준편차**: *0.010*\n",
    "  - 교차 검증 결과는 모델이 새로운 데이터에 대해 `일관성이 다소 떨어지며`, 전반적으로 훈련 데이터의 성능에 비해 **낮은 일반화 성능**을 보이고 있음을 나타냅니다.\n",
    "\n",
    "#### 4. 다양한 교차 검증 지표\n",
    "- **Precision**: *0.523*\n",
    "- **Recall**: *0.452*\n",
    "- **F1-Score**: *0.485*\n",
    "  - 추가적인 **교차 검증** 메트릭은 모델의 **정밀도**, **재현율**, 그리고 **F1 점수**가 상대적으로 `낮음`을 보인다. 이는 모델이 `불균형 데이터`에 대해 어려움을 겪고 있을 수 있으며, 특정 클래스의 예측 개선이 필요함을 시사한다.\n",
    "\n",
    "**`분석 결과, KNN 모델은 훈련 데이터에 대해 높은 정확도를 보이고 있으나, 추가적인 교차 검증 지표를 통해 확인된 바에 따르면, 모델이 실제 환경에서는 예측 성능이 낮아질 수 있다는 우려가 있다. 특히 클래스 1(음성)의 예측에 있어 개선이 필요하며, 모델의 일반화 능력을 향상시키기 위한 조정이 요구된다.`**"
   ]
  },
  {
   "cell_type": "markdown",
   "metadata": {},
   "source": [
    "### **4. [Classification] Gaussian Naive Bayes (GNB)**\n",
    "특성들이 독립적이라는 가정 하에, 각 클래스의 조건부 확률을 계산하여 분류를 수행하는 **확률적 모델**이다. *큰 데이터셋*과 *텍스트 데이터*에 잘 맞습니다."
   ]
  },
  {
   "cell_type": "code",
   "execution_count": 19,
   "metadata": {},
   "outputs": [
    {
     "name": "stdout",
     "output_type": "stream",
     "text": [
      "Training Accuracy:  82.433\n",
      "Classification Report:\n",
      "              precision    recall  f1-score   support\n",
      "\n",
      "           0       0.84      0.93      0.88     13392\n",
      "           1       0.79      0.60      0.68      6082\n",
      "\n",
      "    accuracy                           0.82     19474\n",
      "   macro avg       0.81      0.76      0.78     19474\n",
      "weighted avg       0.82      0.82      0.82     19474\n",
      "\n"
     ]
    },
    {
     "data": {
      "image/png": "[encoded data removed]",
      "text/plain": [
       "<Figure size 640x480 with 2 Axes>"
      ]
     },
     "metadata": {},
     "output_type": "display_data"
    },
    {
     "name": "stdout",
     "output_type": "stream",
     "text": [
      "K-Fold Cross-Validation Scores: [0.81160164 0.82546201 0.82443532 0.82032854 0.81510015 0.82074987\n",
      " 0.82742681 0.83307653 0.83102209 0.83050847]\n",
      "Average 10-Fold CV Score: 0.824, with a standard deviation of 0.007\n",
      "Precision: 0.789, Recall: 0.596, F1-Score: 0.679\n"
     ]
    }
   ],
   "source": [
    "# 4. Gaussian Naive Bayes\n",
    "gaussian = GaussianNB()\n",
    "gaussian.fit(X_train, Y_train)\n",
    "\n",
    "# Predict on the training set\n",
    "Y_pred = gaussian.predict(X_test)\n",
    "acc_gaussian = round(gaussian.score(X_train, Y_train) * 100, 3)\n",
    "print(\"Training Accuracy: \", acc_gaussian)\n",
    "\n",
    "# Evaluate the model using classification report\n",
    "print(\"Classification Report:\")\n",
    "print(classification_report(Y_train, gaussian.predict(X_train)))\n",
    "\n",
    "# Display confusion matrix\n",
    "conf_matrix = confusion_matrix(Y_train, gaussian.predict(X_train))\n",
    "sns.heatmap(conf_matrix, annot=True, fmt='d', cmap='Blues', xticklabels=['Yes', 'No'], yticklabels=['Yes', 'No'])\n",
    "plt.xlabel('Predicted')\n",
    "plt.ylabel('Actual')\n",
    "plt.title('Confusion Matrix')\n",
    "plt.show()\n",
    "\n",
    "# Perform K-Fold cross-validation\n",
    "kf = KFold(n_splits=10, shuffle=True, random_state=33)\n",
    "cv_results = cross_val_score(gaussian, X_train, Y_train, cv=kf, scoring='accuracy')\n",
    "\n",
    "# Print the cross-validation results\n",
    "print(f\"K-Fold Cross-Validation Scores: {cv_results}\")\n",
    "print(f\"Average 10-Fold CV Score: {cv_results.mean():.3f}, with a standard deviation of {cv_results.std():.3f}\")\n",
    "\n",
    "# Using different scoring metrics for cross-validation\n",
    "scores_precision = cross_val_score(gaussian, X_train, Y_train, cv=kf, scoring='precision')\n",
    "scores_recall = cross_val_score(gaussian, X_train, Y_train, cv=kf, scoring='recall')\n",
    "scores_f1 = cross_val_score(gaussian, X_train, Y_train, cv=kf, scoring='f1')\n",
    "\n",
    "print(f\"Precision: {scores_precision.mean():.3f}, Recall: {scores_recall.mean():.3f}, F1-Score: {scores_f1.mean():.3f}\")"
   ]
  },
  {
   "cell_type": "markdown",
   "metadata": {},
   "source": [
    "### **Gaussian Naive Bayes (GNB) Model Evaluation**\n",
    "\n",
    "#### 1. Training Accuracy\n",
    "- **훈련 정확도**: **82.433%**\n",
    "  - 이 모델은 훈련 데이터에 대해 `약 82%`의 정확도로 올바른 예측을 수행했다. 이는 데이터의 패턴을 어느 정도 학습했으나 개선의 여지가 있음을 나타낸다.\n",
    "\n",
    "#### 2. Classification Report\n",
    "- **정밀도(Precision)**, **재현율(Recall)**, **F1-Score**:\n",
    "  - **클래스 0 (양성)**:\n",
    "    - **정밀도**: *0.84* - 예측된 'Yes' 중 `84%`가 실제로 'Yes'\n",
    "    - **재현율**: *0.93* - 실제 'Yes' 중 `93%`가 정확히 예측됨\n",
    "    - **F1-Score**: *0.88* - 정밀도와 재현율의 조화 평균\n",
    "  - **클래스 1 (음성)**:\n",
    "    - **정밀도**: *0.79* - 예측된 'No' 중 `79%`가 실제로 'No'\n",
    "    - **재현율**: *0.60* - 실제 'No' 중 `60%`가 정확히 예측됨\n",
    "    - **F1-Score**: *0.68* - 정밀도와 재현율의 조화 평균\n",
    "  - 이 결과는 모델이 `클래스 0 (양성)`의 예측에 더 강하며 `클래스 1 (음성)`의 예측 성능은 상대적으로 **약함**을 나타낸다.\n",
    "\n",
    "#### 3. K-Fold Cross-Validation\n",
    "- **교차 검증 점수**: **평균**: *0.824*, **표준편차**: *0.007*\n",
    "  - 교차 검증 결과는 훈련 데이터의 성능과 `유사하여`, 이는 모델이 다양한 하위 데이터셋에서 일관성 있는 성능을 보임을 시사한다.\n",
    "\n",
    "#### 4. 다양한 교차 검증\n",
    "- **Precision**: *0.789*\n",
    "- **Recall**: *0.596*\n",
    "- **F1-Score**: *0.679*\n",
    "  - 추가적인 **교차 검증** 메트릭은 모델의 **정밀도**, **재현율**, 그리고 **F1 점수**가 전반적으로 `낮은` 편이며, 특히 **클래스 1 (음성)**에 대한 재현율이 낮아 이에 대한 개선이 필요함을 보여준다.\n",
    "\n",
    "**`분석 결과, Gaussian Naive Bayes 모델은 전반적으로 괜찮은 정확도를 보이고 있으나, 교차 검증 지표를 통해 클래스 1 (음성)에 대한 예측 성능이 상대적으로 낮은 것을 확인할 수 있다. 모델의 일반화 능력과 특히 클래스 1 (음성)의 예측 개선을 위한 조정이 필요해 보인다.`**\n"
   ]
  },
  {
   "cell_type": "markdown",
   "metadata": {},
   "source": [
    "### **5. [Classification] Random Forest**\n",
    "**결정 트리**의 **앙상블**로, 각 트리가 서로 다른 데이터 샘플로부터 학습되며, 그 결과를 종합하여 보다 정확한 예측을 도모한다. **과적합**을 **방지**하고 *일반화 성능*을 높이는 데 효과적이다."
   ]
  },
  {
   "cell_type": "code",
   "execution_count": 20,
   "metadata": {},
   "outputs": [
    {
     "name": "stdout",
     "output_type": "stream",
     "text": [
      "Training Accuracy:  100.0\n",
      "Classification Report:\n",
      "              precision    recall  f1-score   support\n",
      "\n",
      "           0       1.00      1.00      1.00     13392\n",
      "           1       1.00      1.00      1.00      6082\n",
      "\n",
      "    accuracy                           1.00     19474\n",
      "   macro avg       1.00      1.00      1.00     19474\n",
      "weighted avg       1.00      1.00      1.00     19474\n",
      "\n"
     ]
    },
    {
     "data": {
      "image/png": "[encoded data removed]",
      "text/plain": [
       "<Figure size 640x480 with 2 Axes>"
      ]
     },
     "metadata": {},
     "output_type": "display_data"
    },
    {
     "name": "stdout",
     "output_type": "stream",
     "text": [
      "K-Fold Cross-Validation Scores: [0.91889117 0.91786448 0.92761807 0.92761807 0.92758089 0.92193118\n",
      " 0.92398562 0.93117617 0.93014895 0.92347201]\n",
      "Average 10-Fold CV Score: 0.925, with a standard deviation of 0.004\n",
      "Precision: 0.887, Recall: 0.871, F1-Score: 0.879\n"
     ]
    }
   ],
   "source": [
    "# 5. Random Forest\n",
    "random_forest = RandomForestClassifier(n_estimators=100, random_state=33)\n",
    "random_forest.fit(X_train, Y_train)\n",
    "\n",
    "# Predict on the training set\n",
    "Y_pred = random_forest.predict(X_test)\n",
    "acc_random_forest = round(random_forest.score(X_train, Y_train) * 100, 3)\n",
    "print(\"Training Accuracy: \", acc_random_forest)\n",
    "\n",
    "# Evaluate the model using classification report\n",
    "print(\"Classification Report:\")\n",
    "print(classification_report(Y_train, random_forest.predict(X_train)))\n",
    "\n",
    "# Display confusion matrix\n",
    "conf_matrix = confusion_matrix(Y_train, random_forest.predict(X_train))\n",
    "sns.heatmap(conf_matrix, annot=True, fmt='d', cmap='Blues', xticklabels=['Yes', 'No'], yticklabels=['Yes', 'No'])\n",
    "plt.xlabel('Predicted')\n",
    "plt.ylabel('Actual')\n",
    "plt.title('Confusion Matrix')\n",
    "plt.show()\n",
    "\n",
    "# Perform K-Fold cross-validation\n",
    "kf = KFold(n_splits=10, shuffle=True, random_state=33)\n",
    "cv_results = cross_val_score(random_forest, X_train, Y_train, cv=kf, scoring='accuracy')\n",
    "\n",
    "# Print the cross-validation results\n",
    "print(f\"K-Fold Cross-Validation Scores: {cv_results}\")\n",
    "print(f\"Average 10-Fold CV Score: {cv_results.mean():.3f}, with a standard deviation of {cv_results.std():.3f}\")\n",
    "\n",
    "# Using different scoring metrics for cross-validation\n",
    "scores_precision = cross_val_score(random_forest, X_train, Y_train, cv=kf, scoring='precision')\n",
    "scores_recall = cross_val_score(random_forest, X_train, Y_train, cv=kf, scoring='recall')\n",
    "scores_f1 = cross_val_score(random_forest, X_train, Y_train, cv=kf, scoring='f1')\n",
    "\n",
    "print(f\"Precision: {scores_precision.mean():.3f}, Recall: {scores_recall.mean():.3f}, F1-Score: {scores_f1.mean():.3f}\")"
   ]
  },
  {
   "cell_type": "markdown",
   "metadata": {},
   "source": [
    "### **Random Forest 모델 평가**\n",
    "\n",
    "#### 1. Training Accuracy\n",
    "- **훈련 정확도**: **100.0%**\n",
    "  - 이 모델은 훈련 데이터에 대해 `완벽한 정확도`를 보여준다. 이는 모델이 훈련 데이터에 **과적합**될 가능성이 있음을 나타낸다.\n",
    "\n",
    "#### 2. Classification Report\n",
    "- **정밀도(Precision)**, **재현율(Recall)**, **F1-Score**:\n",
    "  - **클래스 0 (양성)**:\n",
    "    - **정밀도**: *1.00* - 예측된 'Yes' 중 `100%`가 실제로 'Yes'\n",
    "    - **재현율**: *1.00* - 실제 'Yes' 중 `100%`가 정확히 예측됨\n",
    "    - **F1-Score**: *1.00* - 정밀도와 재현율의 완벽한 조화\n",
    "  - **클래스 1 (음성)**:\n",
    "    - **정밀도**: *1.00* - 예측된 'No' 중 `100%`가 실제로 'No'\n",
    "    - **재현율**: *1.00* - 실제 'No' 중 `100%`가 정확히 예측됨\n",
    "    - **F1-Score**: *1.00* - 정밀도와 재현율의 완벽한 조화\n",
    "  - 이 결과는 모델이 훈련 데이터에 대해서는 `완벽한 성능`을 보이고 있다.\n",
    "\n",
    "\n",
    "#### 3. K-Fold Cross-Validation\n",
    "- **교차 검증 점수**: **평균**: *0.925*, **표준 편차**: *0.004*\n",
    "  - 교차 검증 결과는 훈련 데이터의 성능에 비해 `약간 낮으나`, 여전히 `매우 높은 정확도`를 보이고 있다. 이는 모델이 **일반화**에 있어 **강한 성능을 유지**할 가능성이 있음을 나타낸다.\n",
    "\n",
    "#### 4. 다양한 교차 검증\n",
    "- **Precision**: *0.887*\n",
    "- **Recall**: *0.871*\n",
    "- **F1-Score**: *0.879*\n",
    "  - 추가적인 **교차 검증** 메트릭은 모델이 **클래스 0 (양성)** 및 **클래스 1 (음성)** 클래스를 `효과적`으로 구분할 수 있음을 보여줍니다. 그러나 훈련 데이터의 완벽한 성능에 비해 약간 낮은 결과는 특정 조건 하에서 성능 변동을 나타낼 수 있음을 시사한다.\n",
    "\n",
    "**`분석 결과, Random Forest 모델은 훈련 데이터에 대해 완벽하게 적합되었으나, 교차 검증을 통한 평가에서는 성능이 다소 감소하는 경향을 보였다. 이는 모델의 과적합 가능성을 감안할 때, 실제 환경에서의 성능은 훈련 성능만큼 높지 않을 수 있다. 따라서, 모델의 일반화 능력을 향상시키기 위한 추가적인 조정과 검증이 필요합니다.`**\n"
   ]
  },
  {
   "cell_type": "code",
   "execution_count": null,
   "metadata": {},
   "outputs": [],
   "source": []
  }
 ],
 "metadata": {
  "kernelspec": {
   "display_name": "Python 3",
   "language": "python",
   "name": "python3"
  },
  "language_info": {
   "codemirror_mode": {
    "name": "ipython",
    "version": 3
   },
   "file_extension": ".py",
   "mimetype": "text/x-python",
   "name": "python",
   "nbconvert_exporter": "python",
   "pygments_lexer": "ipython3",
   "version": "3.12.2"
  }
 },
 "nbformat": 4,
 "nbformat_minor": 2
}
