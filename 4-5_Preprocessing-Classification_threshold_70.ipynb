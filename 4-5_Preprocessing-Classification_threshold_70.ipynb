{
 "cells": [
  {
   "cell_type": "code",
   "execution_count": 22,
   "metadata": {},
   "outputs": [],
   "source": [
    "# Data Analysis\n",
    "import pandas as pd\n",
    "import numpy as np\n",
    "\n",
    "# Visualization\n",
    "import seaborn as sns\n",
    "import matplotlib.pyplot as plt\n",
    "%matplotlib inline\n",
    "\n",
    "# Machine Learning\n",
    "from sklearn.linear_model import LogisticRegression\n",
    "from sklearn.ensemble import RandomForestClassifier\n",
    "from sklearn.neighbors import KNeighborsClassifier\n",
    "from sklearn.naive_bayes import GaussianNB\n",
    "from sklearn.tree import DecisionTreeClassifier\n",
    "\n",
    "from sklearn.metrics import confusion_matrix, classification_report\n",
    "from sklearn.model_selection import cross_val_score\n",
    "from sklearn.preprocessing import StandardScaler\n",
    "from sklearn.pipeline import make_pipeline\n",
    "from sklearn.model_selection import KFold, train_test_split"
   ]
  },
  {
   "cell_type": "markdown",
   "metadata": {},
   "source": [
    "# **4. 데이터 전처리**"
   ]
  },
  {
   "cell_type": "code",
   "execution_count": 23,
   "metadata": {},
   "outputs": [
    {
     "name": "stdout",
     "output_type": "stream",
     "text": [
      "<class 'pandas.core.frame.DataFrame'>\n",
      "RangeIndex: 27820 entries, 0 to 27819\n",
      "Data columns (total 12 columns):\n",
      " #   Column              Non-Null Count  Dtype  \n",
      "---  ------              --------------  -----  \n",
      " 0   country             27820 non-null  object \n",
      " 1   year                27820 non-null  int64  \n",
      " 2   sex                 27820 non-null  object \n",
      " 3   age                 27820 non-null  object \n",
      " 4   suicides_no         27820 non-null  int64  \n",
      " 5   population          27820 non-null  int64  \n",
      " 6   suicides/100k pop   27820 non-null  float64\n",
      " 7   country-year        27820 non-null  object \n",
      " 8   HDI for year        8364 non-null   float64\n",
      " 9   gdp_for_year ($)    27820 non-null  object \n",
      " 10  gdp_per_capita ($)  27820 non-null  int64  \n",
      " 11  generation          27820 non-null  object \n",
      "dtypes: float64(2), int64(4), object(6)\n",
      "memory usage: 2.5+ MB\n",
      "None\n"
     ]
    }
   ],
   "source": [
    "# Load Data\n",
    "data = pd.read_csv(\"master.csv\")\n",
    "\n",
    "print(data.info())"
   ]
  },
  {
   "cell_type": "markdown",
   "metadata": {},
   "source": [
    "### **4-a. Data Restructuring (데이터 재구조화)**"
   ]
  },
  {
   "cell_type": "markdown",
   "metadata": {},
   "source": [
    "#### **Table Decomposition**"
   ]
  },
  {
   "cell_type": "code",
   "execution_count": 24,
   "metadata": {},
   "outputs": [
    {
     "name": "stdout",
     "output_type": "stream",
     "text": [
      "<class 'pandas.core.frame.DataFrame'>\n",
      "RangeIndex: 27820 entries, 0 to 27819\n",
      "Data columns (total 10 columns):\n",
      " #   Column              Non-Null Count  Dtype  \n",
      "---  ------              --------------  -----  \n",
      " 0   country             27820 non-null  object \n",
      " 1   year                27820 non-null  int64  \n",
      " 2   sex                 27820 non-null  object \n",
      " 3   age                 27820 non-null  object \n",
      " 4   suicides/100k pop   27820 non-null  float64\n",
      " 5   country-year        27820 non-null  object \n",
      " 6   HDI for year        8364 non-null   float64\n",
      " 7   gdp_for_year ($)    27820 non-null  object \n",
      " 8   gdp_per_capita ($)  27820 non-null  int64  \n",
      " 9   generation          27820 non-null  object \n",
      "dtypes: float64(2), int64(2), object(6)\n",
      "memory usage: 2.1+ MB\n",
      "None\n"
     ]
    }
   ],
   "source": [
    "# Delete duplicate attribute: \"suicides_no\", \"population\"\n",
    "# \"suicides/100k pop\" * 10^5 = \"suicides_no\" / \"population\" \n",
    "data.drop(\"suicides_no\", axis = 1, inplace = True)\n",
    "data.drop(\"population\", axis = 1, inplace = True)\n",
    "\n",
    "print(data.info())"
   ]
  },
  {
   "cell_type": "code",
   "execution_count": 25,
   "metadata": {},
   "outputs": [
    {
     "name": "stdout",
     "output_type": "stream",
     "text": [
      "<class 'pandas.core.frame.DataFrame'>\n",
      "RangeIndex: 27820 entries, 0 to 27819\n",
      "Data columns (total 9 columns):\n",
      " #   Column              Non-Null Count  Dtype  \n",
      "---  ------              --------------  -----  \n",
      " 0   country             27820 non-null  object \n",
      " 1   year                27820 non-null  int64  \n",
      " 2   sex                 27820 non-null  object \n",
      " 3   age                 27820 non-null  object \n",
      " 4   suicides/100k pop   27820 non-null  float64\n",
      " 5   HDI for year        8364 non-null   float64\n",
      " 6   gdp_for_year ($)    27820 non-null  object \n",
      " 7   gdp_per_capita ($)  27820 non-null  int64  \n",
      " 8   generation          27820 non-null  object \n",
      "dtypes: float64(2), int64(2), object(5)\n",
      "memory usage: 1.9+ MB\n",
      "None\n"
     ]
    }
   ],
   "source": [
    "# Delete duplicate attribute: \"country-year\"\n",
    "# \"country\" and \"year\" attributes also exist separately\n",
    "data.drop(\"country-year\", axis = 1, inplace = True)\n",
    "\n",
    "print(data.info())"
   ]
  },
  {
   "cell_type": "code",
   "execution_count": 26,
   "metadata": {},
   "outputs": [
    {
     "name": "stdout",
     "output_type": "stream",
     "text": [
      "<class 'pandas.core.frame.DataFrame'>\n",
      "RangeIndex: 27820 entries, 0 to 27819\n",
      "Data columns (total 8 columns):\n",
      " #   Column              Non-Null Count  Dtype  \n",
      "---  ------              --------------  -----  \n",
      " 0   country             27820 non-null  object \n",
      " 1   year                27820 non-null  int64  \n",
      " 2   sex                 27820 non-null  object \n",
      " 3   age                 27820 non-null  object \n",
      " 4   suicides/100k pop   27820 non-null  float64\n",
      " 5   HDI for year        8364 non-null   float64\n",
      " 6   gdp_per_capita ($)  27820 non-null  int64  \n",
      " 7   generation          27820 non-null  object \n",
      "dtypes: float64(2), int64(2), object(4)\n",
      "memory usage: 1.7+ MB\n",
      "None\n"
     ]
    }
   ],
   "source": [
    "# Delete duplicate attribute: \"gdp_for_year ($)\"\n",
    "# \"gdp_for_year ($)\" is proportional to \"gdp_per_capita ($)\"\n",
    "data.drop(\"gdp_for_year ($)\", axis = 1, inplace = True)\n",
    "\n",
    "print(data.info())"
   ]
  },
  {
   "cell_type": "markdown",
   "metadata": {},
   "source": [
    "### **관련 설명**\n",
    "#### **\"suicides_no\", \"population\" 제거**\n",
    "`suicides/100k pop` 컬럼은 `suicides_no`를 *population*으로 나눈 후에 *100,000*을 곱한 값이다. 따라서 `suicides_no`와 *population*은 `suicides/100k pop`를 통해 이미 표현되고 있어서, 이 두 컬럼은 중복 정보를 제공하며, 데이터셋의 차원을 줄이기 위해 제거한다.\n",
    "<br>\n",
    "\n",
    "#### **\"country-year\" 제거**\n",
    "`country-year`는 **country**와 **year**의 결합된 정보를 제공하는 컬럼이다. 개별 컬럼을 사용하는 것이 데이터 처리에 더 유연하며, 필요한 경우 언제든지 이 두 속성을 결합하여 동일한 정보를 재생성할 수 있다.\n",
    "<br>\n",
    "\n",
    "#### **\"gdp_for_year ($)\" 제거**\n",
    "`gdp_for_year ($)`는 **국가의 연간 총 GDP**를 나타내고, `gdp_per_capita ($)`는 **인구 대비 GDP**를 나타낸다. 이 두 값은 서로 비례 관계에 있으므로 **국가의 총 GDP**는 *인구 수*와 *1인당 GDP*의 곱으로 계산될 수 있다. 이런 경우 `gdp_for_year ($)`는 `gdp_per_capita ($)`와 인구 데이터를 통해 추론할 수 있으므로, 중복되는 정보를 제공하고 데이터셋의 복잡성을 불필요하게 증가시킬 수 있어 제거한다."
   ]
  },
  {
   "cell_type": "markdown",
   "metadata": {},
   "source": [
    "### **4-b. Data Value Changes(데이터 값 변환)**"
   ]
  },
  {
   "cell_type": "markdown",
   "metadata": {},
   "source": [
    "#### **Cleaning dirty data**"
   ]
  },
  {
   "cell_type": "code",
   "execution_count": 27,
   "metadata": {},
   "outputs": [
    {
     "name": "stdout",
     "output_type": "stream",
     "text": [
      "Original Dataset:\n",
      "country                   0\n",
      "year                      0\n",
      "sex                       0\n",
      "age                       0\n",
      "suicides/100k pop         0\n",
      "HDI for year          19456\n",
      "gdp_per_capita ($)        0\n",
      "generation                0\n",
      "dtype: int64\n"
     ]
    }
   ],
   "source": [
    "# Check missing values in original dataset\n",
    "print(\"Original Dataset:\")\n",
    "print(data.isnull().sum())"
   ]
  },
  {
   "cell_type": "code",
   "execution_count": 28,
   "metadata": {},
   "outputs": [
    {
     "name": "stdout",
     "output_type": "stream",
     "text": [
      "Percentage of missing value of \"HDI for year\": 69.94%\n",
      "\n",
      "<class 'pandas.core.frame.DataFrame'>\n",
      "RangeIndex: 27820 entries, 0 to 27819\n",
      "Data columns (total 7 columns):\n",
      " #   Column              Non-Null Count  Dtype  \n",
      "---  ------              --------------  -----  \n",
      " 0   country             27820 non-null  object \n",
      " 1   year                27820 non-null  int64  \n",
      " 2   sex                 27820 non-null  object \n",
      " 3   age                 27820 non-null  object \n",
      " 4   suicides/100k pop   27820 non-null  float64\n",
      " 5   gdp_per_capita ($)  27820 non-null  int64  \n",
      " 6   generation          27820 non-null  object \n",
      "dtypes: float64(1), int64(2), object(4)\n",
      "memory usage: 1.5+ MB\n",
      "None\n"
     ]
    }
   ],
   "source": [
    "# Determine what percentage is missing : 69.94%\n",
    "missing_value = sum(pd.isnull(data[\"HDI for year\"]))/len(data[\"HDI for year\"])\n",
    "print(f\"Percentage of missing value of \\\"HDI for year\\\": {missing_value * 100:.2f}%\\n\")\n",
    "\n",
    "# Delete missing attribute: \"HDI for year\"\n",
    "data.drop(\"HDI for year\", axis = 1, inplace = True)\n",
    "\n",
    "print(data.info())"
   ]
  },
  {
   "cell_type": "markdown",
   "metadata": {},
   "source": [
    "### **관련 설명**\n",
    "데이터셋에서 각 컬럼별로 누락된 값의 수를 계산하여, `HDI for year`컬럼의 누락된 값의 수가 같은 컬럼 내의 전체 데이터의 70%에 달하는 걸 도출했다. -> `HDI for year` 컬럼 삭제\n"
   ]
  },
  {
   "cell_type": "markdown",
   "metadata": {},
   "source": [
    "#### **Text preprocessing**"
   ]
  },
  {
   "cell_type": "code",
   "execution_count": 29,
   "metadata": {},
   "outputs": [
    {
     "name": "stdout",
     "output_type": "stream",
     "text": [
      "0        15-24\n",
      "1        35-54\n",
      "2        15-24\n",
      "3          75+\n",
      "4        25-34\n",
      "         ...  \n",
      "27815    35-54\n",
      "27816      75+\n",
      "27817     5-14\n",
      "27818     5-14\n",
      "27819    55-74\n",
      "Name: age, Length: 27820, dtype: object\n"
     ]
    }
   ],
   "source": [
    "# Remove 'years' text\n",
    "data[\"age\"] = data[\"age\"].str.strip(\" years\")\n",
    "\n",
    "print(data['age'])"
   ]
  },
  {
   "cell_type": "markdown",
   "metadata": {},
   "source": [
    "### **관련 설명**\n",
    "`age` 컬럼에 **years** 텍스트를 제거한다"
   ]
  },
  {
   "cell_type": "markdown",
   "metadata": {},
   "source": [
    "#### **Data discretization**"
   ]
  },
  {
   "cell_type": "code",
   "execution_count": 30,
   "metadata": {},
   "outputs": [
    {
     "name": "stdout",
     "output_type": "stream",
     "text": [
      "0        20\n",
      "1        45\n",
      "2        20\n",
      "3        80\n",
      "4        30\n",
      "         ..\n",
      "27815    45\n",
      "27816    80\n",
      "27817    10\n",
      "27818    10\n",
      "27819    65\n",
      "Name: age, Length: 27820, dtype: int64\n"
     ]
    }
   ],
   "source": [
    "# Change the string of the age to an integer\n",
    "\n",
    "# Define the function to convert age strings to integers\n",
    "def convert_age(age):\n",
    "    if '75+' in age:\n",
    "        return 80\n",
    "    elif '55-74' in age:\n",
    "        return 65\n",
    "    elif '35-54' in age:\n",
    "        return 45\n",
    "    elif '25-34' in age:\n",
    "        return 30\n",
    "    elif '15-24' in age:\n",
    "        return 20\n",
    "    elif '5-14' in age:\n",
    "        return 10\n",
    "    else:\n",
    "        return None\n",
    "\n",
    "# Apply the function to the 'age' column in both train and test datasets\n",
    "data['age'] = data['age'].apply(convert_age)\n",
    "\n",
    "# Verify the changes by grouping by age and calculating the mean suicide rate\n",
    "age_grouped = data[['age', 'suicides/100k pop']].groupby('age', as_index=False).mean().sort_values(by='suicides/100k pop', ascending=False)\n",
    "\n",
    "# Display the results\n",
    "print(data['age'])"
   ]
  },
  {
   "cell_type": "markdown",
   "metadata": {},
   "source": [
    "### **관련 설명**\n",
    "데이터 타입을 **object타입**에서 **int타입**으로 바꾸고, 각 연령대의 *중간값*으로 인코딩했다. "
   ]
  },
  {
   "cell_type": "markdown",
   "metadata": {},
   "source": [
    "#### **Encoding for data mining algorighoms**"
   ]
  },
  {
   "cell_type": "code",
   "execution_count": 31,
   "metadata": {},
   "outputs": [
    {
     "name": "stdout",
     "output_type": "stream",
     "text": [
      "0        1\n",
      "1        1\n",
      "2        0\n",
      "3        1\n",
      "4        1\n",
      "        ..\n",
      "27815    0\n",
      "27816    0\n",
      "27817    1\n",
      "27818    0\n",
      "27819    0\n",
      "Name: sex, Length: 27820, dtype: int64\n"
     ]
    }
   ],
   "source": [
    "# Pre-processing sex property using label encoding\n",
    "\n",
    "# Define the mapping function using map\n",
    "sex_mapping = {'female': 0, 'male': 1}\n",
    "\n",
    "data['sex'] = data['sex'].map(sex_mapping)\n",
    "\n",
    "# Verify the changes by grouping by sex and calculating the mean suicide rate\n",
    "sex_grouped = data[['sex', 'suicides/100k pop']].groupby('sex', as_index=False).mean().sort_values(by='suicides/100k pop', ascending=False)\n",
    "\n",
    "# Display the results\n",
    "print(data['sex'])"
   ]
  },
  {
   "cell_type": "markdown",
   "metadata": {},
   "source": [
    "### **관련 설명**\n",
    "**라벨 인코딩**을 사용하여 **남자**는 **1**, **여자**는 **0**으로 변환하였다"
   ]
  },
  {
   "cell_type": "code",
   "execution_count": 32,
   "metadata": {},
   "outputs": [
    {
     "name": "stdout",
     "output_type": "stream",
     "text": [
      "<class 'pandas.core.frame.DataFrame'>\n",
      "RangeIndex: 27820 entries, 0 to 27819\n",
      "Data columns (total 12 columns):\n",
      " #   Column                      Non-Null Count  Dtype  \n",
      "---  ------                      --------------  -----  \n",
      " 0   country                     27820 non-null  object \n",
      " 1   year                        27820 non-null  int64  \n",
      " 2   sex                         27820 non-null  int64  \n",
      " 3   age                         27820 non-null  int64  \n",
      " 4   suicides/100k pop           27820 non-null  float64\n",
      " 5   gdp_per_capita ($)          27820 non-null  int64  \n",
      " 6   generation_Boomers          27820 non-null  bool   \n",
      " 7   generation_G.I. Generation  27820 non-null  bool   \n",
      " 8   generation_Generation X     27820 non-null  bool   \n",
      " 9   generation_Generation Z     27820 non-null  bool   \n",
      " 10  generation_Millenials       27820 non-null  bool   \n",
      " 11  generation_Silent           27820 non-null  bool   \n",
      "dtypes: bool(6), float64(1), int64(4), object(1)\n",
      "memory usage: 1.4+ MB\n",
      "None\n"
     ]
    }
   ],
   "source": [
    "# Pre-processing generation property using one-hot encoding\n",
    "data_encoded = pd.get_dummies(data, columns=['generation'])\n",
    "\n",
    "# Extract the column names generated by one-hot encoding\n",
    "one_hot_columns = [col for col in data_encoded.columns if 'generation_' in col]\n",
    "\n",
    "# Add one-hot encoded columns to the original data frame\n",
    "data = data.join(data_encoded[one_hot_columns])\n",
    "\n",
    "# Drop the original 'generation' column\n",
    "data.drop(columns=['generation'], inplace=True)\n",
    "\n",
    "print(data.info())"
   ]
  },
  {
   "cell_type": "markdown",
   "metadata": {},
   "source": [
    "### **4-c. Feature Engineering(특성 엔지니어링)**"
   ]
  },
  {
   "cell_type": "markdown",
   "metadata": {},
   "source": [
    "#### **Feature Creation**"
   ]
  },
  {
   "cell_type": "code",
   "execution_count": 33,
   "metadata": {},
   "outputs": [
    {
     "name": "stdout",
     "output_type": "stream",
     "text": [
      "<class 'pandas.core.frame.DataFrame'>\n",
      "RangeIndex: 27820 entries, 0 to 27819\n",
      "Data columns (total 13 columns):\n",
      " #   Column                      Non-Null Count  Dtype  \n",
      "---  ------                      --------------  -----  \n",
      " 0   country                     27820 non-null  object \n",
      " 1   year                        27820 non-null  int64  \n",
      " 2   sex                         27820 non-null  int64  \n",
      " 3   age                         27820 non-null  int64  \n",
      " 4   suicides/100k pop           27820 non-null  float64\n",
      " 5   gdp_per_capita ($)          27820 non-null  int64  \n",
      " 6   generation_Boomers          27820 non-null  bool   \n",
      " 7   generation_G.I. Generation  27820 non-null  bool   \n",
      " 8   generation_Generation X     27820 non-null  bool   \n",
      " 9   generation_Generation Z     27820 non-null  bool   \n",
      " 10  generation_Millenials       27820 non-null  bool   \n",
      " 11  generation_Silent           27820 non-null  bool   \n",
      " 12  Over_threshold_suicides     27820 non-null  int32  \n",
      "dtypes: bool(6), float64(1), int32(1), int64(4), object(1)\n",
      "memory usage: 1.5+ MB\n",
      "None\n"
     ]
    }
   ],
   "source": [
    "# 전처리 4-c 부분 (Feature Engineering) 이 코드로 수정됨\n",
    "# Calculate the 70% of the mean suicide rate\n",
    "mean_suicide_rate = data[\"suicides/100k pop\"].mean()\n",
    "threshold = mean_suicide_rate * 0.7  ## 수정사항 =============> threshold = mean * 0.7\n",
    "\n",
    "# Create a new attribute, Over_mean_suicides\n",
    "# 1 if the suicide rate is higher than 70% of the mean suicide rate, 0 otherwise\n",
    "data[\"Over_threshold_suicides\"] = np.where(data[\"suicides/100k pop\"] > threshold, 1, 0)\n",
    "\n",
    "# Print the updated DataFrame information to see the new attribute and changes\n",
    "print(data.info())"
   ]
  },
  {
   "cell_type": "code",
   "execution_count": 34,
   "metadata": {},
   "outputs": [
    {
     "name": "stdout",
     "output_type": "stream",
     "text": [
      "Data with Target Encoding on 'country':\n",
      "0        3.494650\n",
      "1        3.526042\n",
      "2        3.460366\n",
      "3        3.502403\n",
      "4        3.494650\n",
      "           ...   \n",
      "27815    8.094891\n",
      "27816    8.334615\n",
      "27817    8.094891\n",
      "27818    7.885556\n",
      "27819    8.150212\n",
      "Name: country_encoded, Length: 27820, dtype: float64\n"
     ]
    },
    {
     "name": "stderr",
     "output_type": "stream",
     "text": [
      "C:\\TempFolder\\ipykernel_9156\\1141463371.py:21: FutureWarning: A value is trying to be set on a copy of a DataFrame or Series through chained assignment using an inplace method.\n",
      "The behavior will change in pandas 3.0. This inplace method will never work because the intermediate object on which we are setting values always behaves as a copy.\n",
      "\n",
      "For example, when doing 'df[col].method(value, inplace=True)', try using 'df.method({col: value}, inplace=True)' or df[col] = df[col].method(value) instead, to perform the operation inplace on the original object.\n",
      "\n",
      "\n",
      "  data['country_encoded'].fillna(global_mean, inplace=True)\n"
     ]
    }
   ],
   "source": [
    "# Initialize KFold\n",
    "kf = KFold(n_splits=10, shuffle=True, random_state=33)\n",
    "\n",
    "# Prepare the new encoded column\n",
    "data['country_encoded'] = 0.0\n",
    "\n",
    "# Perform target encoding using KFold\n",
    "for train_index, val_index in kf.split(data):\n",
    "    train_fold, val_fold = data.iloc[train_index], data.iloc[val_index]\n",
    "    mean_encoded = train_fold.groupby('country')['suicides/100k pop'].mean()\n",
    "    data.loc[val_index, 'country_encoded'] = val_fold['country'].map(mean_encoded)\n",
    "\n",
    "# Split the data into training and testing datasets\n",
    "# Normally done for dividing data, but here it is used as an example to split part of the data arbitrarily\n",
    "train_data = data.sample(frac=0.8, random_state=33)\n",
    "test_data = data.drop(train_data.index)\n",
    "\n",
    "# Use mean encoding for the test dataset\n",
    "# Use the mean calculated from the entire dataset\n",
    "global_mean = data['suicides/100k pop'].mean()\n",
    "data['country_encoded'].fillna(global_mean, inplace=True)\n",
    "\n",
    "# Drop the original 'country' column\n",
    "data.drop(columns=['country'], inplace=True)\n",
    "\n",
    "# Print the results\n",
    "print(\"Data with Target Encoding on 'country':\")\n",
    "print(data['country_encoded'])\n"
   ]
  },
  {
   "cell_type": "markdown",
   "metadata": {},
   "source": [
    "새로운 속성 `Over_threshold_suicides` 생성: 이 속성은 `suicides/100k pop`이 **threshold**를 초과하는지 여부를 확인하여, 0과 1로 표기한다\n",
    "\n",
    "`KFold 교차 검증`을 통한 **타깃 인코딩**: 각 국가별로 `suicides/100k pop`의 평균을 계산하고, 이를 각 검증 세트에 메핑하여 **국가별 자살률의 평균**으로 새로운 컬럼 `country_encoded`를 만든다"
   ]
  },
  {
   "cell_type": "markdown",
   "metadata": {},
   "source": [
    "### **4-d. Data Reduction(데이터 축약)**"
   ]
  },
  {
   "cell_type": "markdown",
   "metadata": {},
   "source": [
    "#### **Data Filtering**"
   ]
  },
  {
   "cell_type": "code",
   "execution_count": 35,
   "metadata": {},
   "outputs": [
    {
     "name": "stdout",
     "output_type": "stream",
     "text": [
      "X_train shape: (19474, 11)\n",
      "Y_train shape: (19474,)\n",
      "X_test shape: (8346, 11)\n",
      "Y_test shape: (8346,)\n"
     ]
    }
   ],
   "source": [
    "# Split the entire dataset into training and testing data with a 70:30 ratio\n",
    "train_data, test_data = train_test_split(data, test_size=0.3, random_state=33)\n",
    "\n",
    "# Use the properties we created ('Over_threshold_suicides') as predictions\n",
    "# Remove 'suicides/100k pop', a factor that affects prediction\n",
    "\n",
    "# Ensure that all necessary columns are present and no unnecessary columns are dropped\n",
    "columns_to_drop = [\"Over_threshold_suicides\", \"suicides/100k pop\"]\n",
    "\n",
    "# Drop columns in a single operation for both train and test sets\n",
    "X_train = train_data.drop(columns=columns_to_drop)\n",
    "Y_train = train_data[\"Over_threshold_suicides\"]\n",
    "\n",
    "X_test = test_data.drop(columns=columns_to_drop).copy()\n",
    "Y_test = test_data[\"Over_threshold_suicides\"]\n",
    "\n",
    "# Print the shapes of X_train, Y_train, and X_test to verify\n",
    "print(f\"X_train shape: {X_train.shape}\")\n",
    "print(f\"Y_train shape: {Y_train.shape}\")\n",
    "print(f\"X_test shape: {X_test.shape}\")\n",
    "print(f\"Y_test shape: {Y_test.shape}\")"
   ]
  },
  {
   "cell_type": "markdown",
   "metadata": {},
   "source": [
    "#### **관련 해설**\n",
    "전체 데이터 셋을 훈련 데이터와 테스트 데이터로 **7:3 비율**로 분할한다. `Over_threshold_suicides` 속성을 예측 변수로 사용하며, 예측에 영향을 줄 수 있는 `suicides/100k pop` 컬럼은 제거한다"
   ]
  },
  {
   "cell_type": "code",
   "execution_count": 36,
   "metadata": {},
   "outputs": [
    {
     "name": "stdout",
     "output_type": "stream",
     "text": [
      "data shape:  (27820, 13) \n",
      "\n",
      "<class 'pandas.core.frame.DataFrame'>\n",
      "RangeIndex: 27820 entries, 0 to 27819\n",
      "Data columns (total 13 columns):\n",
      " #   Column                      Non-Null Count  Dtype  \n",
      "---  ------                      --------------  -----  \n",
      " 0   year                        27820 non-null  int64  \n",
      " 1   sex                         27820 non-null  int64  \n",
      " 2   age                         27820 non-null  int64  \n",
      " 3   suicides/100k pop           27820 non-null  float64\n",
      " 4   gdp_per_capita ($)          27820 non-null  int64  \n",
      " 5   generation_Boomers          27820 non-null  bool   \n",
      " 6   generation_G.I. Generation  27820 non-null  bool   \n",
      " 7   generation_Generation X     27820 non-null  bool   \n",
      " 8   generation_Generation Z     27820 non-null  bool   \n",
      " 9   generation_Millenials       27820 non-null  bool   \n",
      " 10  generation_Silent           27820 non-null  bool   \n",
      " 11  Over_threshold_suicides     27820 non-null  int32  \n",
      " 12  country_encoded             27820 non-null  float64\n",
      "dtypes: bool(6), float64(2), int32(1), int64(4)\n",
      "memory usage: 1.5 MB\n",
      "None\n"
     ]
    }
   ],
   "source": [
    "print(\"data shape: \", data.shape, \"\\n\")\n",
    "print(data.info())"
   ]
  },
  {
   "cell_type": "markdown",
   "metadata": {},
   "source": [
    "### **1. [Classification] Logistic Regression**\n",
    "선형 분류기로, 결과가 **범주형 데이터**인 경우에 적합하다. *이진* 또는 *다중* 클래스 분류 문제에 주로 사용된다."
   ]
  },
  {
   "cell_type": "code",
   "execution_count": 37,
   "metadata": {},
   "outputs": [
    {
     "name": "stdout",
     "output_type": "stream",
     "text": [
      "Training Accuracy:  84.446\n",
      "Classification Report:\n",
      "              precision    recall  f1-score   support\n",
      "\n",
      "           0       0.87      0.87      0.87     11646\n",
      "           1       0.81      0.80      0.81      7828\n",
      "\n",
      "    accuracy                           0.84     19474\n",
      "   macro avg       0.84      0.84      0.84     19474\n",
      "weighted avg       0.84      0.84      0.84     19474\n",
      "\n"
     ]
    },
    {
     "data": {
      "image/png": "[encoded data removed]",
      "text/plain": [
       "<Figure size 640x480 with 2 Axes>"
      ]
     },
     "metadata": {},
     "output_type": "display_data"
    },
    {
     "name": "stdout",
     "output_type": "stream",
     "text": [
      "K-Fold Cross-Validation Scores: [0.82905544 0.83367556 0.85574949 0.84907598 0.84745763 0.85413457\n",
      " 0.84488957 0.84797124 0.83513097 0.84334874]\n",
      "Average 10-Fold CV Score: 0.844, with a standard deviation of 0.008\n",
      "Precision: 0.808, Recall: 0.802, F1-Score: 0.805\n"
     ]
    }
   ],
   "source": [
    "# 1. Logistic Regression Model\n",
    "logreg = make_pipeline(StandardScaler(), LogisticRegression(solver='lbfgs', max_iter=1000))\n",
    "\n",
    "# Train the model\n",
    "logreg.fit(X_train, Y_train)\n",
    "\n",
    "# Predict on the training set and calculate accuracy\n",
    "Y_pred = logreg.predict(X_test)\n",
    "acc_log = round(logreg.score(X_train, Y_train) * 100, 3)\n",
    "print(\"Training Accuracy: \", acc_log)\n",
    "\n",
    "# Evaluate the model using classification report\n",
    "print(\"Classification Report:\")\n",
    "print(classification_report(Y_train, logreg.predict(X_train)))\n",
    "\n",
    "# Display confusion matrix\n",
    "conf_matrix = confusion_matrix(Y_train, logreg.predict(X_train))\n",
    "sns.heatmap(conf_matrix, annot=True, fmt='d', cmap='Blues', xticklabels=['Yes', 'No'], yticklabels=['Yes', 'No'])\n",
    "plt.xlabel('Predicted')\n",
    "plt.ylabel('Actual')\n",
    "plt.title('Confusion Matrix')\n",
    "plt.show()\n",
    "\n",
    "# Perform K-Fold cross-validation\n",
    "kf = KFold(n_splits=10, shuffle=True, random_state=33)\n",
    "cv_results = cross_val_score(logreg, X_train, Y_train, cv=kf, scoring='accuracy')\n",
    "\n",
    "# Print the cross-validation results\n",
    "print(f\"K-Fold Cross-Validation Scores: {cv_results}\")\n",
    "print(f\"Average 10-Fold CV Score: {cv_results.mean():.3f}, with a standard deviation of {cv_results.std():.3f}\")\n",
    "\n",
    "# Using different scoring metrics for cross-validation\n",
    "scores_precision = cross_val_score(logreg, X_train, Y_train, cv=kf, scoring='precision')\n",
    "scores_recall = cross_val_score(logreg, X_train, Y_train, cv=kf, scoring='recall')\n",
    "scores_f1 = cross_val_score(logreg, X_train, Y_train, cv=kf, scoring='f1')\n",
    "\n",
    "print(f\"Precision: {scores_precision.mean():.3f}, Recall: {scores_recall.mean():.3f}, F1-Score: {scores_f1.mean():.3f}\")\n"
   ]
  },
  {
   "cell_type": "markdown",
   "metadata": {},
   "source": [
    "### **2. [Classification] Decision Tree**\n",
    "직관적인 모델로, 데이터를 **트리 구조**의 집합으로 분할하여 결정을 내리는 방식을 사용한다. 해석이 *쉽고* *다목적으로 활용* 가능하다"
   ]
  },
  {
   "cell_type": "code",
   "execution_count": 38,
   "metadata": {},
   "outputs": [
    {
     "name": "stdout",
     "output_type": "stream",
     "text": [
      "Training Accuracy:  100.0\n",
      "Classification Report:\n",
      "              precision    recall  f1-score   support\n",
      "\n",
      "           0       1.00      1.00      1.00     11646\n",
      "           1       1.00      1.00      1.00      7828\n",
      "\n",
      "    accuracy                           1.00     19474\n",
      "   macro avg       1.00      1.00      1.00     19474\n",
      "weighted avg       1.00      1.00      1.00     19474\n",
      "\n"
     ]
    },
    {
     "data": {
      "image/png": "[encoded data removed]",
      "text/plain": [
       "<Figure size 640x480 with 2 Axes>"
      ]
     },
     "metadata": {},
     "output_type": "display_data"
    },
    {
     "name": "stdout",
     "output_type": "stream",
     "text": [
      "K-Fold Cross-Validation Scores: [0.89835729 0.8886037  0.89784394 0.88552361 0.89984592 0.90087314\n",
      " 0.90909091 0.89008731 0.90755008 0.89625064]\n",
      "Average 10-Fold CV Score: 0.897, with a standard deviation of 0.007\n",
      "Precision: 0.873, Recall: 0.871, F1-Score: 0.872\n"
     ]
    }
   ],
   "source": [
    "# 2. Decision Tree\n",
    "decision_tree = DecisionTreeClassifier(random_state=33)\n",
    "decision_tree.fit(X_train, Y_train)\n",
    "\n",
    "# Predict on the training set\n",
    "Y_pred = decision_tree.predict(X_test)\n",
    "acc_decision_tree = round(decision_tree.score(X_train, Y_train) * 100, 3)\n",
    "print(\"Training Accuracy: \", acc_decision_tree)\n",
    "\n",
    "# Evaluate the model using classification report\n",
    "print(\"Classification Report:\")\n",
    "print(classification_report(Y_train, decision_tree.predict(X_train)))\n",
    "\n",
    "# Display confusion matrix\n",
    "conf_matrix = confusion_matrix(Y_train, decision_tree.predict(X_train))\n",
    "sns.heatmap(conf_matrix, annot=True, fmt='d', cmap='Blues', xticklabels=['Yes', 'No'], yticklabels=['Yes', 'No'])\n",
    "plt.xlabel('Predicted')\n",
    "plt.ylabel('Actual')\n",
    "plt.title('Confusion Matrix')\n",
    "plt.show()\n",
    "\n",
    "# Perform K-Fold cross-validation\n",
    "kf = KFold(n_splits=10, shuffle=True, random_state=33)\n",
    "cv_results = cross_val_score(decision_tree, X_train, Y_train, cv=kf, scoring='accuracy')\n",
    "\n",
    "# Print the cross-validation results\n",
    "print(f\"K-Fold Cross-Validation Scores: {cv_results}\")\n",
    "print(f\"Average 10-Fold CV Score: {cv_results.mean():.3f}, with a standard deviation of {cv_results.std():.3f}\")\n",
    "\n",
    "# Using different scoring metrics for cross-validation\n",
    "scores_precision = cross_val_score(decision_tree, X_train, Y_train, cv=kf, scoring='precision')\n",
    "scores_recall = cross_val_score(decision_tree, X_train, Y_train, cv=kf, scoring='recall')\n",
    "scores_f1 = cross_val_score(decision_tree, X_train, Y_train, cv=kf, scoring='f1')\n",
    "\n",
    "print(f\"Precision: {scores_precision.mean():.3f}, Recall: {scores_recall.mean():.3f}, F1-Score: {scores_f1.mean():.3f}\")"
   ]
  },
  {
   "cell_type": "markdown",
   "metadata": {},
   "source": [
    "### **3. [Classification] K-Nearest Neighbors (KNN)**\n",
    "인스턴스 기반 학습 알고리즘으로, 가장 가까운 *K*개의 이웃 데이터를 바탕으로 분류 또는 회귀를 수행한다. 데이터가 **적을 때** 유용하다"
   ]
  },
  {
   "cell_type": "code",
   "execution_count": 39,
   "metadata": {},
   "outputs": [
    {
     "name": "stdout",
     "output_type": "stream",
     "text": [
      "Training Accuracy:  86.033\n",
      "Classification Report:\n",
      "              precision    recall  f1-score   support\n",
      "\n",
      "           0       0.87      0.91      0.89     11646\n",
      "           1       0.85      0.79      0.82      7828\n",
      "\n",
      "    accuracy                           0.86     19474\n",
      "   macro avg       0.86      0.85      0.85     19474\n",
      "weighted avg       0.86      0.86      0.86     19474\n",
      "\n"
     ]
    },
    {
     "data": {
      "image/png": "[encoded data removed]",
      "text/plain": [
       "<Figure size 640x480 with 2 Axes>"
      ]
     },
     "metadata": {},
     "output_type": "display_data"
    },
    {
     "name": "stdout",
     "output_type": "stream",
     "text": [
      "K-Fold Cross-Validation Scores: [0.65400411 0.66581109 0.67659138 0.66683778 0.66307139 0.67385722\n",
      " 0.67180277 0.67437083 0.68515665 0.6779661 ]\n",
      "Average 10-Fold CV Score: 0.671, with a standard deviation of 0.008\n",
      "Precision: 0.595, Recall: 0.566, F1-Score: 0.580\n"
     ]
    }
   ],
   "source": [
    "# 3. K-Nearest Neighbors\n",
    "knn = KNeighborsClassifier(n_neighbors=3)\n",
    "knn.fit(X_train, Y_train)\n",
    "\n",
    "# Predict on the training set\n",
    "Y_pred = knn.predict(X_test)\n",
    "acc_knn = round(knn.score(X_train, Y_train) * 100, 3)\n",
    "print(\"Training Accuracy: \", acc_knn)\n",
    "\n",
    "# Evaluate the model using classification report\n",
    "print(\"Classification Report:\")\n",
    "print(classification_report(Y_train, knn.predict(X_train)))\n",
    "\n",
    "# Display confusion matrix\n",
    "conf_matrix = confusion_matrix(Y_train, knn.predict(X_train))\n",
    "sns.heatmap(conf_matrix, annot=True, fmt='d', cmap='Blues', xticklabels=['Yes', 'No'], yticklabels=['Yes', 'No'])\n",
    "plt.xlabel('Predicted')\n",
    "plt.ylabel('Actual')\n",
    "plt.title('Confusion Matrix')\n",
    "plt.show()\n",
    "\n",
    "# Perform K-Fold cross-validation\n",
    "kf = KFold(n_splits=10, shuffle=True, random_state=33)\n",
    "cv_results = cross_val_score(knn, X_train, Y_train, cv=kf, scoring='accuracy')\n",
    "\n",
    "# Print the cross-validation results\n",
    "print(f\"K-Fold Cross-Validation Scores: {cv_results}\")\n",
    "print(f\"Average 10-Fold CV Score: {cv_results.mean():.3f}, with a standard deviation of {cv_results.std():.3f}\")\n",
    "\n",
    "# Using different scoring metrics for cross-validation\n",
    "scores_precision = cross_val_score(knn, X_train, Y_train, cv=kf, scoring='precision')\n",
    "scores_recall = cross_val_score(knn, X_train, Y_train, cv=kf, scoring='recall')\n",
    "scores_f1 = cross_val_score(knn, X_train, Y_train, cv=kf, scoring='f1')\n",
    "\n",
    "print(f\"Precision: {scores_precision.mean():.3f}, Recall: {scores_recall.mean():.3f}, F1-Score: {scores_f1.mean():.3f}\")"
   ]
  },
  {
   "cell_type": "markdown",
   "metadata": {},
   "source": [
    "### **4. [Classification] Gaussian Naive Bayes (GNB)**\n",
    "특성들이 독립적이라는 가정 하에, 각 클래스의 조건부 확률을 계산하여 분류를 수행하는 **확률적 모델**이다. *큰 데이터셋*과 *텍스트 데이터*에 잘 맞습니다."
   ]
  },
  {
   "cell_type": "code",
   "execution_count": 40,
   "metadata": {},
   "outputs": [
    {
     "name": "stdout",
     "output_type": "stream",
     "text": [
      "Training Accuracy:  79.1\n",
      "Classification Report:\n",
      "              precision    recall  f1-score   support\n",
      "\n",
      "           0       0.80      0.86      0.83     11646\n",
      "           1       0.77      0.69      0.72      7828\n",
      "\n",
      "    accuracy                           0.79     19474\n",
      "   macro avg       0.79      0.77      0.78     19474\n",
      "weighted avg       0.79      0.79      0.79     19474\n",
      "\n"
     ]
    },
    {
     "data": {
      "image/png": "[encoded data removed]",
      "text/plain": [
       "<Figure size 640x480 with 2 Axes>"
      ]
     },
     "metadata": {},
     "output_type": "display_data"
    },
    {
     "name": "stdout",
     "output_type": "stream",
     "text": [
      "K-Fold Cross-Validation Scores: [0.78131417 0.79414784 0.79517454 0.77310062 0.78993323 0.8125321\n",
      " 0.79866461 0.79250128 0.79096045 0.78941962]\n",
      "Average 10-Fold CV Score: 0.792, with a standard deviation of 0.010\n",
      "Precision: 0.771, Recall: 0.685, F1-Score: 0.726\n"
     ]
    }
   ],
   "source": [
    "# 4. Gaussian Naive Bayes\n",
    "gaussian = GaussianNB()\n",
    "gaussian.fit(X_train, Y_train)\n",
    "\n",
    "# Predict on the training set\n",
    "Y_pred = gaussian.predict(X_test)\n",
    "acc_gaussian = round(gaussian.score(X_train, Y_train) * 100, 3)\n",
    "print(\"Training Accuracy: \", acc_gaussian)\n",
    "\n",
    "# Evaluate the model using classification report\n",
    "print(\"Classification Report:\")\n",
    "print(classification_report(Y_train, gaussian.predict(X_train)))\n",
    "\n",
    "# Display confusion matrix\n",
    "conf_matrix = confusion_matrix(Y_train, gaussian.predict(X_train))\n",
    "sns.heatmap(conf_matrix, annot=True, fmt='d', cmap='Blues', xticklabels=['Yes', 'No'], yticklabels=['Yes', 'No'])\n",
    "plt.xlabel('Predicted')\n",
    "plt.ylabel('Actual')\n",
    "plt.title('Confusion Matrix')\n",
    "plt.show()\n",
    "\n",
    "# Perform K-Fold cross-validation\n",
    "kf = KFold(n_splits=10, shuffle=True, random_state=33)\n",
    "cv_results = cross_val_score(gaussian, X_train, Y_train, cv=kf, scoring='accuracy')\n",
    "\n",
    "# Print the cross-validation results\n",
    "print(f\"K-Fold Cross-Validation Scores: {cv_results}\")\n",
    "print(f\"Average 10-Fold CV Score: {cv_results.mean():.3f}, with a standard deviation of {cv_results.std():.3f}\")\n",
    "\n",
    "# Using different scoring metrics for cross-validation\n",
    "scores_precision = cross_val_score(gaussian, X_train, Y_train, cv=kf, scoring='precision')\n",
    "scores_recall = cross_val_score(gaussian, X_train, Y_train, cv=kf, scoring='recall')\n",
    "scores_f1 = cross_val_score(gaussian, X_train, Y_train, cv=kf, scoring='f1')\n",
    "\n",
    "print(f\"Precision: {scores_precision.mean():.3f}, Recall: {scores_recall.mean():.3f}, F1-Score: {scores_f1.mean():.3f}\")"
   ]
  },
  {
   "cell_type": "markdown",
   "metadata": {},
   "source": [
    "### **5. [Classification] Random Forest**\n",
    "**결정 트리**의 **앙상블**로, 각 트리가 서로 다른 데이터 샘플로부터 학습되며, 그 결과를 종합하여 보다 정확한 예측을 도모한다. **과적합**을 **방지**하고 *일반화 성능*을 높이는 데 효과적이다."
   ]
  },
  {
   "cell_type": "code",
   "execution_count": 41,
   "metadata": {},
   "outputs": [
    {
     "name": "stdout",
     "output_type": "stream",
     "text": [
      "Training Accuracy:  100.0\n",
      "Classification Report:\n",
      "              precision    recall  f1-score   support\n",
      "\n",
      "           0       1.00      1.00      1.00     11646\n",
      "           1       1.00      1.00      1.00      7828\n",
      "\n",
      "    accuracy                           1.00     19474\n",
      "   macro avg       1.00      1.00      1.00     19474\n",
      "weighted avg       1.00      1.00      1.00     19474\n",
      "\n"
     ]
    },
    {
     "data": {
      "image/png": "[encoded data removed]",
      "text/plain": [
       "<Figure size 640x480 with 2 Axes>"
      ]
     },
     "metadata": {},
     "output_type": "display_data"
    },
    {
     "name": "stdout",
     "output_type": "stream",
     "text": [
      "K-Fold Cross-Validation Scores: [0.91170431 0.91273101 0.91529774 0.91016427 0.91936312 0.9183359\n",
      " 0.92449923 0.91628146 0.91525424 0.90703647]\n",
      "Average 10-Fold CV Score: 0.915, with a standard deviation of 0.005\n",
      "Precision: 0.901, Recall: 0.886, F1-Score: 0.893\n"
     ]
    }
   ],
   "source": [
    "# 5. Random Forest\n",
    "random_forest = RandomForestClassifier(n_estimators=100, random_state=33)\n",
    "random_forest.fit(X_train, Y_train)\n",
    "\n",
    "# Predict on the training set\n",
    "Y_pred = random_forest.predict(X_test)\n",
    "acc_random_forest = round(random_forest.score(X_train, Y_train) * 100, 3)\n",
    "print(\"Training Accuracy: \", acc_random_forest)\n",
    "\n",
    "# Evaluate the model using classification report\n",
    "print(\"Classification Report:\")\n",
    "print(classification_report(Y_train, random_forest.predict(X_train)))\n",
    "\n",
    "# Display confusion matrix\n",
    "conf_matrix = confusion_matrix(Y_train, random_forest.predict(X_train))\n",
    "sns.heatmap(conf_matrix, annot=True, fmt='d', cmap='Blues', xticklabels=['Yes', 'No'], yticklabels=['Yes', 'No'])\n",
    "plt.xlabel('Predicted')\n",
    "plt.ylabel('Actual')\n",
    "plt.title('Confusion Matrix')\n",
    "plt.show()\n",
    "\n",
    "# Perform K-Fold cross-validation\n",
    "kf = KFold(n_splits=10, shuffle=True, random_state=33)\n",
    "cv_results = cross_val_score(random_forest, X_train, Y_train, cv=kf, scoring='accuracy')\n",
    "\n",
    "# Print the cross-validation results\n",
    "print(f\"K-Fold Cross-Validation Scores: {cv_results}\")\n",
    "print(f\"Average 10-Fold CV Score: {cv_results.mean():.3f}, with a standard deviation of {cv_results.std():.3f}\")\n",
    "\n",
    "# Using different scoring metrics for cross-validation\n",
    "scores_precision = cross_val_score(random_forest, X_train, Y_train, cv=kf, scoring='precision')\n",
    "scores_recall = cross_val_score(random_forest, X_train, Y_train, cv=kf, scoring='recall')\n",
    "scores_f1 = cross_val_score(random_forest, X_train, Y_train, cv=kf, scoring='f1')\n",
    "\n",
    "print(f\"Precision: {scores_precision.mean():.3f}, Recall: {scores_recall.mean():.3f}, F1-Score: {scores_f1.mean():.3f}\")"
   ]
  },
  {
   "cell_type": "markdown",
   "metadata": {},
   "source": [
    "전반적으로 `클래스 0 (양성)` 값이 낮아지는 대신, `클래스 1 (음성)` 값이 높아진 것을 볼 수 있다. 또, **Decision Tree**와 **Random Forest**같은 경우에는 모델의 성능이 전체적으로 약간 낮아진 것도 알 수 있다\n",
    "\n",
    "### **모델 성능 변화에 대한 분석**\n",
    "#### **1. 클래스 균형의 변화**\n",
    "- **임계값**을 자살률의 `70%`로 낮춤으로써, **'양성' 클래스**의 사례 수가 **감소**하고 **'음성' 클래스**의 사례 수가 **증가**했다\n",
    "\n",
    "#### **2. 성능 지표의 변화**\n",
    "- **클래스 0 (양성)**: **정밀도**와 **재현율**이 **감소**하였습니다. 이는 **'양성' 클래스**를 **예측**하기 위한 기준이 더 엄격해져 실제 **'양성'**을 놓치는 경우가 **증가**했음을 의미한다\n",
    "- **클래스 1 (음성)**: **정밀도**와 **재현율**이 향상되었다. 이는 **'음성' 클래스**의 판정 기준이 완화되어 모델이 **'음성'**을 더 잘 예측하게 됨을 나타낸다 -> `자살률을 예측하는 모델에게는 좋은 현상`\n",
    "\n",
    "#### **Decision Tree와 Random Forest의 성능 감소**\n",
    "- **Decision Tree**와 **Random Forest** 모델의 성능이 전반적으로 소폭 `감소`하였다. **임계값**의 조정이 이러한 트리 기반 모델의 데이터 분할 방식에 영향을 미쳐, 특히 **'음성' 클래스**를 처리하는 과정에서 `오류가 증가`한 것으로 보인다"
   ]
  },
  {
   "cell_type": "code",
   "execution_count": null,
   "metadata": {},
   "outputs": [],
   "source": []
  }
 ],
 "metadata": {
  "kernelspec": {
   "display_name": "Python 3",
   "language": "python",
   "name": "python3"
  },
  "language_info": {
   "codemirror_mode": {
    "name": "ipython",
    "version": 3
   },
   "file_extension": ".py",
   "mimetype": "text/x-python",
   "name": "python",
   "nbconvert_exporter": "python",
   "pygments_lexer": "ipython3",
   "version": "3.12.2"
  }
 },
 "nbformat": 4,
 "nbformat_minor": 2
}
